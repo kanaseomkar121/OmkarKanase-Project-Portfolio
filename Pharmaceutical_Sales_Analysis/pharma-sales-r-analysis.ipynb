{
 "cells": [
  {
   "cell_type": "code",
   "execution_count": 1,
   "id": "e5fb2b51",
   "metadata": {
    "_execution_state": "idle",
    "_uuid": "051d70d956493feee0c6d64651c6a088724dca2a",
    "execution": {
     "iopub.execute_input": "2025-07-28T23:45:59.673846Z",
     "iopub.status.busy": "2025-07-28T23:45:59.671719Z",
     "iopub.status.idle": "2025-07-28T23:46:00.948860Z",
     "shell.execute_reply": "2025-07-28T23:46:00.946810Z"
    },
    "papermill": {
     "duration": 1.288281,
     "end_time": "2025-07-28T23:46:00.952069",
     "exception": false,
     "start_time": "2025-07-28T23:45:59.663788",
     "status": "completed"
    },
    "tags": []
   },
   "outputs": [
    {
     "name": "stderr",
     "output_type": "stream",
     "text": [
      "── \u001b[1mAttaching core tidyverse packages\u001b[22m ──────────────────────── tidyverse 2.0.0 ──\n",
      "\u001b[32m✔\u001b[39m \u001b[34mdplyr    \u001b[39m 1.1.4     \u001b[32m✔\u001b[39m \u001b[34mreadr    \u001b[39m 2.1.5\n",
      "\u001b[32m✔\u001b[39m \u001b[34mforcats  \u001b[39m 1.0.0     \u001b[32m✔\u001b[39m \u001b[34mstringr  \u001b[39m 1.5.1\n",
      "\u001b[32m✔\u001b[39m \u001b[34mggplot2  \u001b[39m 3.5.1     \u001b[32m✔\u001b[39m \u001b[34mtibble   \u001b[39m 3.2.1\n",
      "\u001b[32m✔\u001b[39m \u001b[34mlubridate\u001b[39m 1.9.3     \u001b[32m✔\u001b[39m \u001b[34mtidyr    \u001b[39m 1.3.1\n",
      "\u001b[32m✔\u001b[39m \u001b[34mpurrr    \u001b[39m 1.0.2     \n"
     ]
    },
    {
     "name": "stderr",
     "output_type": "stream",
     "text": [
      "── \u001b[1mConflicts\u001b[22m ────────────────────────────────────────── tidyverse_conflicts() ──\n",
      "\u001b[31m✖\u001b[39m \u001b[34mdplyr\u001b[39m::\u001b[32mfilter()\u001b[39m masks \u001b[34mstats\u001b[39m::filter()\n",
      "\u001b[31m✖\u001b[39m \u001b[34mdplyr\u001b[39m::\u001b[32mlag()\u001b[39m    masks \u001b[34mstats\u001b[39m::lag()\n",
      "\u001b[36mℹ\u001b[39m Use the conflicted package (\u001b[3m\u001b[34m<http://conflicted.r-lib.org/>\u001b[39m\u001b[23m) to force all conflicts to become errors\n"
     ]
    },
    {
     "data": {
      "text/html": [
       "'pharma-dataset'"
      ],
      "text/latex": [
       "'pharma-dataset'"
      ],
      "text/markdown": [
       "'pharma-dataset'"
      ],
      "text/plain": [
       "[1] \"pharma-dataset\""
      ]
     },
     "metadata": {},
     "output_type": "display_data"
    }
   ],
   "source": [
    "# This R environment comes with many helpful analytics packages installed\n",
    "# It is defined by the kaggle/rstats Docker image: https://github.com/kaggle/docker-rstats\n",
    "# For example, here's a helpful package to load\n",
    "\n",
    "library(tidyverse) # metapackage of all tidyverse packages\n",
    "\n",
    "# Input data files are available in the read-only \"../input/\" directory\n",
    "# For example, running this (by clicking run or pressing Shift+Enter) will list all files under the input directory\n",
    "\n",
    "list.files(path = \"../input\")\n",
    "\n",
    "# You can write up to 20GB to the current directory (/kaggle/working/) that gets preserved as output when you create a version using \"Save & Run All\" \n",
    "# You can also write temporary files to /kaggle/temp/, but they won't be saved outside of the current session"
   ]
  },
  {
   "cell_type": "code",
   "execution_count": 2,
   "id": "0ee4fc3f",
   "metadata": {
    "execution": {
     "iopub.execute_input": "2025-07-28T23:46:00.996830Z",
     "iopub.status.busy": "2025-07-28T23:46:00.965642Z",
     "iopub.status.idle": "2025-07-28T23:46:01.013444Z",
     "shell.execute_reply": "2025-07-28T23:46:01.011716Z"
    },
    "papermill": {
     "duration": 0.058293,
     "end_time": "2025-07-28T23:46:01.016538",
     "exception": false,
     "start_time": "2025-07-28T23:46:00.958245",
     "status": "completed"
    },
    "tags": []
   },
   "outputs": [],
   "source": [
    "# Install and load required libraries      \n",
    "library(tidyverse)\n",
    "library(readr) \n",
    "library(lubridate)"
   ]
  },
  {
   "cell_type": "code",
   "execution_count": 3,
   "id": "4bdcb82a",
   "metadata": {
    "execution": {
     "iopub.execute_input": "2025-07-28T23:46:01.030794Z",
     "iopub.status.busy": "2025-07-28T23:46:01.029245Z",
     "iopub.status.idle": "2025-07-28T23:46:02.625738Z",
     "shell.execute_reply": "2025-07-28T23:46:02.623929Z"
    },
    "papermill": {
     "duration": 1.606492,
     "end_time": "2025-07-28T23:46:02.628451",
     "exception": false,
     "start_time": "2025-07-28T23:46:01.021959",
     "status": "completed"
    },
    "tags": []
   },
   "outputs": [
    {
     "data": {
      "text/html": [
       "<table class=\"dataframe\">\n",
       "<caption>A tibble: 6 × 18</caption>\n",
       "<thead>\n",
       "\t<tr><th scope=col>Distributor</th><th scope=col>Customer Name</th><th scope=col>City</th><th scope=col>Country</th><th scope=col>Latitude</th><th scope=col>Longitude</th><th scope=col>Channel</th><th scope=col>Sub-channel</th><th scope=col>Product Name</th><th scope=col>Product Class</th><th scope=col>Quantity</th><th scope=col>Price</th><th scope=col>Sales</th><th scope=col>Month</th><th scope=col>Year</th><th scope=col>Name of Sales Rep</th><th scope=col>Manager</th><th scope=col>Sales Team</th></tr>\n",
       "\t<tr><th scope=col>&lt;chr&gt;</th><th scope=col>&lt;chr&gt;</th><th scope=col>&lt;chr&gt;</th><th scope=col>&lt;chr&gt;</th><th scope=col>&lt;dbl&gt;</th><th scope=col>&lt;dbl&gt;</th><th scope=col>&lt;chr&gt;</th><th scope=col>&lt;chr&gt;</th><th scope=col>&lt;chr&gt;</th><th scope=col>&lt;chr&gt;</th><th scope=col>&lt;dbl&gt;</th><th scope=col>&lt;dbl&gt;</th><th scope=col>&lt;dbl&gt;</th><th scope=col>&lt;chr&gt;</th><th scope=col>&lt;dbl&gt;</th><th scope=col>&lt;chr&gt;</th><th scope=col>&lt;chr&gt;</th><th scope=col>&lt;chr&gt;</th></tr>\n",
       "</thead>\n",
       "<tbody>\n",
       "\t<tr><td>Gottlieb-Cruickshank</td><td>Zieme, Doyle and Kunze              </td><td>Lublin </td><td>Poland</td><td>51.2333</td><td>22.5667</td><td>Hospital</td><td>Private    </td><td>Topipizole            </td><td>Mood Stabilizers</td><td> 4</td><td>368</td><td>1472</td><td>January</td><td>2018</td><td>Mary Gerrard     </td><td>Britanny Bold </td><td>Delta</td></tr>\n",
       "\t<tr><td>Gottlieb-Cruickshank</td><td>Feest PLC                           </td><td>Świecie</td><td>Poland</td><td>53.4167</td><td>18.4333</td><td>Pharmacy</td><td>Retail     </td><td>Choriotrisin          </td><td>Antibiotics     </td><td> 7</td><td>591</td><td>4137</td><td>January</td><td>2018</td><td>Jessica Smith    </td><td>Britanny Bold </td><td>Delta</td></tr>\n",
       "\t<tr><td>Gottlieb-Cruickshank</td><td>Medhurst-Beer Pharmaceutical Limited</td><td>Rybnik </td><td>Poland</td><td>50.0833</td><td>18.5000</td><td>Pharmacy</td><td>Institution</td><td>Acantaine             </td><td>Antibiotics     </td><td>30</td><td> 66</td><td>1980</td><td>January</td><td>2018</td><td>Steve Pepple     </td><td>Tracy Banks   </td><td>Bravo</td></tr>\n",
       "\t<tr><td>Gottlieb-Cruickshank</td><td>Barton Ltd Pharma Plc               </td><td>Czeladź</td><td>Poland</td><td>50.3333</td><td>19.0833</td><td>Hospital</td><td>Private    </td><td>Lioletine Refliruvax  </td><td>Analgesics      </td><td> 6</td><td>435</td><td>2610</td><td>January</td><td>2018</td><td>Mary Gerrard     </td><td>Britanny Bold </td><td>Delta</td></tr>\n",
       "\t<tr><td>Gottlieb-Cruickshank</td><td>Keeling LLC Pharmacy                </td><td>Olsztyn</td><td>Poland</td><td>53.7800</td><td>20.4942</td><td>Pharmacy</td><td>Retail     </td><td>Oxymotroban Fexoformin</td><td>Analgesics      </td><td>20</td><td>458</td><td>9160</td><td>January</td><td>2018</td><td>Anne Wu          </td><td>Britanny Bold </td><td>Delta</td></tr>\n",
       "\t<tr><td>Gottlieb-Cruickshank</td><td>Runte-Marquardt Pharmaceutical Ltd  </td><td>Olecko </td><td>Poland</td><td>54.0333</td><td>22.5000</td><td>Hospital</td><td>Private    </td><td>Pazofenac             </td><td>Mood Stabilizers</td><td> 5</td><td>123</td><td> 615</td><td>January</td><td>2018</td><td>Thompson Crawford</td><td>James Goodwill</td><td>Alfa </td></tr>\n",
       "</tbody>\n",
       "</table>\n"
      ],
      "text/latex": [
       "A tibble: 6 × 18\n",
       "\\begin{tabular}{llllllllllllllllll}\n",
       " Distributor & Customer Name & City & Country & Latitude & Longitude & Channel & Sub-channel & Product Name & Product Class & Quantity & Price & Sales & Month & Year & Name of Sales Rep & Manager & Sales Team\\\\\n",
       " <chr> & <chr> & <chr> & <chr> & <dbl> & <dbl> & <chr> & <chr> & <chr> & <chr> & <dbl> & <dbl> & <dbl> & <chr> & <dbl> & <chr> & <chr> & <chr>\\\\\n",
       "\\hline\n",
       "\t Gottlieb-Cruickshank & Zieme, Doyle and Kunze               & Lublin  & Poland & 51.2333 & 22.5667 & Hospital & Private     & Topipizole             & Mood Stabilizers &  4 & 368 & 1472 & January & 2018 & Mary Gerrard      & Britanny Bold  & Delta\\\\\n",
       "\t Gottlieb-Cruickshank & Feest PLC                            & Świecie & Poland & 53.4167 & 18.4333 & Pharmacy & Retail      & Choriotrisin           & Antibiotics      &  7 & 591 & 4137 & January & 2018 & Jessica Smith     & Britanny Bold  & Delta\\\\\n",
       "\t Gottlieb-Cruickshank & Medhurst-Beer Pharmaceutical Limited & Rybnik  & Poland & 50.0833 & 18.5000 & Pharmacy & Institution & Acantaine              & Antibiotics      & 30 &  66 & 1980 & January & 2018 & Steve Pepple      & Tracy Banks    & Bravo\\\\\n",
       "\t Gottlieb-Cruickshank & Barton Ltd Pharma Plc                & Czeladź & Poland & 50.3333 & 19.0833 & Hospital & Private     & Lioletine Refliruvax   & Analgesics       &  6 & 435 & 2610 & January & 2018 & Mary Gerrard      & Britanny Bold  & Delta\\\\\n",
       "\t Gottlieb-Cruickshank & Keeling LLC Pharmacy                 & Olsztyn & Poland & 53.7800 & 20.4942 & Pharmacy & Retail      & Oxymotroban Fexoformin & Analgesics       & 20 & 458 & 9160 & January & 2018 & Anne Wu           & Britanny Bold  & Delta\\\\\n",
       "\t Gottlieb-Cruickshank & Runte-Marquardt Pharmaceutical Ltd   & Olecko  & Poland & 54.0333 & 22.5000 & Hospital & Private     & Pazofenac              & Mood Stabilizers &  5 & 123 &  615 & January & 2018 & Thompson Crawford & James Goodwill & Alfa \\\\\n",
       "\\end{tabular}\n"
      ],
      "text/markdown": [
       "\n",
       "A tibble: 6 × 18\n",
       "\n",
       "| Distributor &lt;chr&gt; | Customer Name &lt;chr&gt; | City &lt;chr&gt; | Country &lt;chr&gt; | Latitude &lt;dbl&gt; | Longitude &lt;dbl&gt; | Channel &lt;chr&gt; | Sub-channel &lt;chr&gt; | Product Name &lt;chr&gt; | Product Class &lt;chr&gt; | Quantity &lt;dbl&gt; | Price &lt;dbl&gt; | Sales &lt;dbl&gt; | Month &lt;chr&gt; | Year &lt;dbl&gt; | Name of Sales Rep &lt;chr&gt; | Manager &lt;chr&gt; | Sales Team &lt;chr&gt; |\n",
       "|---|---|---|---|---|---|---|---|---|---|---|---|---|---|---|---|---|---|\n",
       "| Gottlieb-Cruickshank | Zieme, Doyle and Kunze               | Lublin  | Poland | 51.2333 | 22.5667 | Hospital | Private     | Topipizole             | Mood Stabilizers |  4 | 368 | 1472 | January | 2018 | Mary Gerrard      | Britanny Bold  | Delta |\n",
       "| Gottlieb-Cruickshank | Feest PLC                            | Świecie | Poland | 53.4167 | 18.4333 | Pharmacy | Retail      | Choriotrisin           | Antibiotics      |  7 | 591 | 4137 | January | 2018 | Jessica Smith     | Britanny Bold  | Delta |\n",
       "| Gottlieb-Cruickshank | Medhurst-Beer Pharmaceutical Limited | Rybnik  | Poland | 50.0833 | 18.5000 | Pharmacy | Institution | Acantaine              | Antibiotics      | 30 |  66 | 1980 | January | 2018 | Steve Pepple      | Tracy Banks    | Bravo |\n",
       "| Gottlieb-Cruickshank | Barton Ltd Pharma Plc                | Czeladź | Poland | 50.3333 | 19.0833 | Hospital | Private     | Lioletine Refliruvax   | Analgesics       |  6 | 435 | 2610 | January | 2018 | Mary Gerrard      | Britanny Bold  | Delta |\n",
       "| Gottlieb-Cruickshank | Keeling LLC Pharmacy                 | Olsztyn | Poland | 53.7800 | 20.4942 | Pharmacy | Retail      | Oxymotroban Fexoformin | Analgesics       | 20 | 458 | 9160 | January | 2018 | Anne Wu           | Britanny Bold  | Delta |\n",
       "| Gottlieb-Cruickshank | Runte-Marquardt Pharmaceutical Ltd   | Olecko  | Poland | 54.0333 | 22.5000 | Hospital | Private     | Pazofenac              | Mood Stabilizers |  5 | 123 |  615 | January | 2018 | Thompson Crawford | James Goodwill | Alfa  |\n",
       "\n"
      ],
      "text/plain": [
       "  Distributor          Customer Name                        City    Country\n",
       "1 Gottlieb-Cruickshank Zieme, Doyle and Kunze               Lublin  Poland \n",
       "2 Gottlieb-Cruickshank Feest PLC                            Świecie Poland \n",
       "3 Gottlieb-Cruickshank Medhurst-Beer Pharmaceutical Limited Rybnik  Poland \n",
       "4 Gottlieb-Cruickshank Barton Ltd Pharma Plc                Czeladź Poland \n",
       "5 Gottlieb-Cruickshank Keeling LLC Pharmacy                 Olsztyn Poland \n",
       "6 Gottlieb-Cruickshank Runte-Marquardt Pharmaceutical Ltd   Olecko  Poland \n",
       "  Latitude Longitude Channel  Sub-channel Product Name          \n",
       "1 51.2333  22.5667   Hospital Private     Topipizole            \n",
       "2 53.4167  18.4333   Pharmacy Retail      Choriotrisin          \n",
       "3 50.0833  18.5000   Pharmacy Institution Acantaine             \n",
       "4 50.3333  19.0833   Hospital Private     Lioletine Refliruvax  \n",
       "5 53.7800  20.4942   Pharmacy Retail      Oxymotroban Fexoformin\n",
       "6 54.0333  22.5000   Hospital Private     Pazofenac             \n",
       "  Product Class    Quantity Price Sales Month   Year Name of Sales Rep\n",
       "1 Mood Stabilizers  4       368   1472  January 2018 Mary Gerrard     \n",
       "2 Antibiotics       7       591   4137  January 2018 Jessica Smith    \n",
       "3 Antibiotics      30        66   1980  January 2018 Steve Pepple     \n",
       "4 Analgesics        6       435   2610  January 2018 Mary Gerrard     \n",
       "5 Analgesics       20       458   9160  January 2018 Anne Wu          \n",
       "6 Mood Stabilizers  5       123    615  January 2018 Thompson Crawford\n",
       "  Manager        Sales Team\n",
       "1 Britanny Bold  Delta     \n",
       "2 Britanny Bold  Delta     \n",
       "3 Tracy Banks    Bravo     \n",
       "4 Britanny Bold  Delta     \n",
       "5 Britanny Bold  Delta     \n",
       "6 James Goodwill Alfa      "
      ]
     },
     "metadata": {},
     "output_type": "display_data"
    }
   ],
   "source": [
    "# Read the dataset \n",
    "df <- read_csv(\"../input/pharma-dataset/pharma-data.csv\", show_col_types = FALSE)\n",
    "\n",
    "# View first few rows\n",
    "head(df)"
   ]
  },
  {
   "cell_type": "markdown",
   "id": "998c33fc",
   "metadata": {
    "papermill": {
     "duration": 0.006403,
     "end_time": "2025-07-28T23:46:02.641469",
     "exception": false,
     "start_time": "2025-07-28T23:46:02.635066",
     "status": "completed"
    },
    "tags": []
   },
   "source": [
    "## Data structure and summary"
   ]
  },
  {
   "cell_type": "code",
   "execution_count": 4,
   "id": "c85104d5",
   "metadata": {
    "execution": {
     "iopub.execute_input": "2025-07-28T23:46:02.656809Z",
     "iopub.status.busy": "2025-07-28T23:46:02.655263Z",
     "iopub.status.idle": "2025-07-28T23:46:02.926467Z",
     "shell.execute_reply": "2025-07-28T23:46:02.924800Z"
    },
    "papermill": {
     "duration": 0.281121,
     "end_time": "2025-07-28T23:46:02.928767",
     "exception": false,
     "start_time": "2025-07-28T23:46:02.647646",
     "status": "completed"
    },
    "tags": []
   },
   "outputs": [
    {
     "data": {
      "text/plain": [
       " Distributor        Customer Name          City             Country         \n",
       " Length:254082      Length:254082      Length:254082      Length:254082     \n",
       " Class :character   Class :character   Class :character   Class :character  \n",
       " Mode  :character   Mode  :character   Mode  :character   Mode  :character  \n",
       "                                                                            \n",
       "                                                                            \n",
       "                                                                            \n",
       "    Latitude       Longitude        Channel          Sub-channel       \n",
       " Min.   :47.51   Min.   : 6.084   Length:254082      Length:254082     \n",
       " 1st Qu.:49.81   1st Qu.: 7.891   Class :character   Class :character  \n",
       " Median :51.13   Median : 9.398   Mode  :character   Mode  :character  \n",
       " Mean   :50.96   Mean   :10.803                                        \n",
       " 3rd Qu.:52.08   3rd Qu.:12.133                                        \n",
       " Max.   :54.78   Max.   :23.567                                        \n",
       " Product Name       Product Class         Quantity            Price      \n",
       " Length:254082      Length:254082      Min.   : -7200.0   Min.   : 22.0  \n",
       " Class :character   Class :character   1st Qu.:     5.0   1st Qu.:195.0  \n",
       " Mode  :character   Mode  :character   Median :    20.0   Median :430.0  \n",
       "                                       Mean   :   112.9   Mean   :412.2  \n",
       "                                       3rd Qu.:    50.0   3rd Qu.:605.0  \n",
       "                                       Max.   :117600.0   Max.   :794.0  \n",
       "     Sales             Month                Year      Name of Sales Rep \n",
       " Min.   :-4161600   Length:254082      Min.   :2017   Length:254082     \n",
       " 1st Qu.:    1704   Class :character   1st Qu.:2018   Class :character  \n",
       " Median :    5850   Mode  :character   Median :2018   Mode  :character  \n",
       " Mean   :   46438                      Mean   :2018                     \n",
       " 3rd Qu.:   21565                      3rd Qu.:2019                     \n",
       " Max.   :74205600                      Max.   :2020                     \n",
       "   Manager           Sales Team       \n",
       " Length:254082      Length:254082     \n",
       " Class :character   Class :character  \n",
       " Mode  :character   Mode  :character  \n",
       "                                      \n",
       "                                      \n",
       "                                      "
      ]
     },
     "metadata": {},
     "output_type": "display_data"
    }
   ],
   "source": [
    "summary(df)"
   ]
  },
  {
   "cell_type": "code",
   "execution_count": 5,
   "id": "41fd7dcf",
   "metadata": {
    "execution": {
     "iopub.execute_input": "2025-07-28T23:46:02.944113Z",
     "iopub.status.busy": "2025-07-28T23:46:02.942667Z",
     "iopub.status.idle": "2025-07-28T23:46:02.980118Z",
     "shell.execute_reply": "2025-07-28T23:46:02.978554Z"
    },
    "papermill": {
     "duration": 0.047551,
     "end_time": "2025-07-28T23:46:02.982309",
     "exception": false,
     "start_time": "2025-07-28T23:46:02.934758",
     "status": "completed"
    },
    "tags": []
   },
   "outputs": [
    {
     "name": "stdout",
     "output_type": "stream",
     "text": [
      "Rows: 254,082\n",
      "Columns: 18\n",
      "$ Distributor         \u001b[3m\u001b[90m<chr>\u001b[39m\u001b[23m \"Gottlieb-Cruickshank\", \"Gottlieb-Cruickshank\", \"G…\n",
      "$ `Customer Name`     \u001b[3m\u001b[90m<chr>\u001b[39m\u001b[23m \"Zieme, Doyle and Kunze\", \"Feest PLC\", \"Medhurst-B…\n",
      "$ City                \u001b[3m\u001b[90m<chr>\u001b[39m\u001b[23m \"Lublin\", \"Świecie\", \"Rybnik\", \"Czeladź\", \"Olsztyn…\n",
      "$ Country             \u001b[3m\u001b[90m<chr>\u001b[39m\u001b[23m \"Poland\", \"Poland\", \"Poland\", \"Poland\", \"Poland\", …\n",
      "$ Latitude            \u001b[3m\u001b[90m<dbl>\u001b[39m\u001b[23m 51.2333, 53.4167, 50.0833, 50.3333, 53.7800, 54.03…\n",
      "$ Longitude           \u001b[3m\u001b[90m<dbl>\u001b[39m\u001b[23m 22.5667, 18.4333, 18.5000, 19.0833, 20.4942, 22.50…\n",
      "$ Channel             \u001b[3m\u001b[90m<chr>\u001b[39m\u001b[23m \"Hospital\", \"Pharmacy\", \"Pharmacy\", \"Hospital\", \"P…\n",
      "$ `Sub-channel`       \u001b[3m\u001b[90m<chr>\u001b[39m\u001b[23m \"Private\", \"Retail\", \"Institution\", \"Private\", \"Re…\n",
      "$ `Product Name`      \u001b[3m\u001b[90m<chr>\u001b[39m\u001b[23m \"Topipizole\", \"Choriotrisin\", \"Acantaine\", \"Liolet…\n",
      "$ `Product Class`     \u001b[3m\u001b[90m<chr>\u001b[39m\u001b[23m \"Mood Stabilizers\", \"Antibiotics\", \"Antibiotics\", …\n",
      "$ Quantity            \u001b[3m\u001b[90m<dbl>\u001b[39m\u001b[23m 4, 7, 30, 6, 20, 5, 20, 5, 4, 10, 35, 4, 5, 6, 7, …\n",
      "$ Price               \u001b[3m\u001b[90m<dbl>\u001b[39m\u001b[23m 368, 591, 66, 435, 458, 123, 536, 742, 551, 243, 7…\n",
      "$ Sales               \u001b[3m\u001b[90m<dbl>\u001b[39m\u001b[23m 1472, 4137, 1980, 2610, 9160, 615, 10720, 3710, 22…\n",
      "$ Month               \u001b[3m\u001b[90m<chr>\u001b[39m\u001b[23m \"January\", \"January\", \"January\", \"January\", \"Janua…\n",
      "$ Year                \u001b[3m\u001b[90m<dbl>\u001b[39m\u001b[23m 2018, 2018, 2018, 2018, 2018, 2018, 2018, 2018, 20…\n",
      "$ `Name of Sales Rep` \u001b[3m\u001b[90m<chr>\u001b[39m\u001b[23m \"Mary Gerrard\", \"Jessica Smith\", \"Steve Pepple\", \"…\n",
      "$ Manager             \u001b[3m\u001b[90m<chr>\u001b[39m\u001b[23m \"Britanny Bold\", \"Britanny Bold\", \"Tracy Banks\", \"…\n",
      "$ `Sales Team`        \u001b[3m\u001b[90m<chr>\u001b[39m\u001b[23m \"Delta\", \"Delta\", \"Bravo\", \"Delta\", \"Delta\", \"Alfa…\n"
     ]
    },
    {
     "data": {
      "text/html": [
       "<style>\n",
       ".list-inline {list-style: none; margin:0; padding: 0}\n",
       ".list-inline>li {display: inline-block}\n",
       ".list-inline>li:not(:last-child)::after {content: \"\\00b7\"; padding: 0 .5ex}\n",
       "</style>\n",
       "<ol class=list-inline><li>'Distributor'</li><li>'Customer Name'</li><li>'City'</li><li>'Country'</li><li>'Latitude'</li><li>'Longitude'</li><li>'Channel'</li><li>'Sub-channel'</li><li>'Product Name'</li><li>'Product Class'</li><li>'Quantity'</li><li>'Price'</li><li>'Sales'</li><li>'Month'</li><li>'Year'</li><li>'Name of Sales Rep'</li><li>'Manager'</li><li>'Sales Team'</li></ol>\n"
      ],
      "text/latex": [
       "\\begin{enumerate*}\n",
       "\\item 'Distributor'\n",
       "\\item 'Customer Name'\n",
       "\\item 'City'\n",
       "\\item 'Country'\n",
       "\\item 'Latitude'\n",
       "\\item 'Longitude'\n",
       "\\item 'Channel'\n",
       "\\item 'Sub-channel'\n",
       "\\item 'Product Name'\n",
       "\\item 'Product Class'\n",
       "\\item 'Quantity'\n",
       "\\item 'Price'\n",
       "\\item 'Sales'\n",
       "\\item 'Month'\n",
       "\\item 'Year'\n",
       "\\item 'Name of Sales Rep'\n",
       "\\item 'Manager'\n",
       "\\item 'Sales Team'\n",
       "\\end{enumerate*}\n"
      ],
      "text/markdown": [
       "1. 'Distributor'\n",
       "2. 'Customer Name'\n",
       "3. 'City'\n",
       "4. 'Country'\n",
       "5. 'Latitude'\n",
       "6. 'Longitude'\n",
       "7. 'Channel'\n",
       "8. 'Sub-channel'\n",
       "9. 'Product Name'\n",
       "10. 'Product Class'\n",
       "11. 'Quantity'\n",
       "12. 'Price'\n",
       "13. 'Sales'\n",
       "14. 'Month'\n",
       "15. 'Year'\n",
       "16. 'Name of Sales Rep'\n",
       "17. 'Manager'\n",
       "18. 'Sales Team'\n",
       "\n",
       "\n"
      ],
      "text/plain": [
       " [1] \"Distributor\"       \"Customer Name\"     \"City\"             \n",
       " [4] \"Country\"           \"Latitude\"          \"Longitude\"        \n",
       " [7] \"Channel\"           \"Sub-channel\"       \"Product Name\"     \n",
       "[10] \"Product Class\"     \"Quantity\"          \"Price\"            \n",
       "[13] \"Sales\"             \"Month\"             \"Year\"             \n",
       "[16] \"Name of Sales Rep\" \"Manager\"           \"Sales Team\"       "
      ]
     },
     "metadata": {},
     "output_type": "display_data"
    }
   ],
   "source": [
    "# Get data structure and summary\n",
    "glimpse(df)\n",
    "\n",
    "# Check column names\n",
    "colnames(df)"
   ]
  },
  {
   "cell_type": "markdown",
   "id": "53a4e27a",
   "metadata": {
    "papermill": {
     "duration": 0.006142,
     "end_time": "2025-07-28T23:46:02.994810",
     "exception": false,
     "start_time": "2025-07-28T23:46:02.988668",
     "status": "completed"
    },
    "tags": []
   },
   "source": [
    "### Check for missing values"
   ]
  },
  {
   "cell_type": "code",
   "execution_count": 6,
   "id": "f52dc056",
   "metadata": {
    "execution": {
     "iopub.execute_input": "2025-07-28T23:46:03.011321Z",
     "iopub.status.busy": "2025-07-28T23:46:03.009825Z",
     "iopub.status.idle": "2025-07-28T23:46:03.182931Z",
     "shell.execute_reply": "2025-07-28T23:46:03.181226Z"
    },
    "papermill": {
     "duration": 0.183636,
     "end_time": "2025-07-28T23:46:03.185376",
     "exception": false,
     "start_time": "2025-07-28T23:46:03.001740",
     "status": "completed"
    },
    "tags": []
   },
   "outputs": [
    {
     "data": {
      "text/html": [
       "<style>\n",
       ".dl-inline {width: auto; margin:0; padding: 0}\n",
       ".dl-inline>dt, .dl-inline>dd {float: none; width: auto; display: inline-block}\n",
       ".dl-inline>dt::after {content: \":\\0020\"; padding-right: .5ex}\n",
       ".dl-inline>dt:not(:first-of-type) {padding-left: .5ex}\n",
       "</style><dl class=dl-inline><dt>Distributor</dt><dd>0</dd><dt>Customer Name</dt><dd>0</dd><dt>City</dt><dd>0</dd><dt>Country</dt><dd>0</dd><dt>Latitude</dt><dd>0</dd><dt>Longitude</dt><dd>0</dd><dt>Channel</dt><dd>0</dd><dt>Sub-channel</dt><dd>0</dd><dt>Product Name</dt><dd>0</dd><dt>Product Class</dt><dd>0</dd><dt>Quantity</dt><dd>0</dd><dt>Price</dt><dd>0</dd><dt>Sales</dt><dd>0</dd><dt>Month</dt><dd>0</dd><dt>Year</dt><dd>0</dd><dt>Name of Sales Rep</dt><dd>0</dd><dt>Manager</dt><dd>0</dd><dt>Sales Team</dt><dd>0</dd></dl>\n"
      ],
      "text/latex": [
       "\\begin{description*}\n",
       "\\item[Distributor] 0\n",
       "\\item[Customer Name] 0\n",
       "\\item[City] 0\n",
       "\\item[Country] 0\n",
       "\\item[Latitude] 0\n",
       "\\item[Longitude] 0\n",
       "\\item[Channel] 0\n",
       "\\item[Sub-channel] 0\n",
       "\\item[Product Name] 0\n",
       "\\item[Product Class] 0\n",
       "\\item[Quantity] 0\n",
       "\\item[Price] 0\n",
       "\\item[Sales] 0\n",
       "\\item[Month] 0\n",
       "\\item[Year] 0\n",
       "\\item[Name of Sales Rep] 0\n",
       "\\item[Manager] 0\n",
       "\\item[Sales Team] 0\n",
       "\\end{description*}\n"
      ],
      "text/markdown": [
       "Distributor\n",
       ":   0Customer Name\n",
       ":   0City\n",
       ":   0Country\n",
       ":   0Latitude\n",
       ":   0Longitude\n",
       ":   0Channel\n",
       ":   0Sub-channel\n",
       ":   0Product Name\n",
       ":   0Product Class\n",
       ":   0Quantity\n",
       ":   0Price\n",
       ":   0Sales\n",
       ":   0Month\n",
       ":   0Year\n",
       ":   0Name of Sales Rep\n",
       ":   0Manager\n",
       ":   0Sales Team\n",
       ":   0\n",
       "\n"
      ],
      "text/plain": [
       "      Distributor     Customer Name              City           Country \n",
       "                0                 0                 0                 0 \n",
       "         Latitude         Longitude           Channel       Sub-channel \n",
       "                0                 0                 0                 0 \n",
       "     Product Name     Product Class          Quantity             Price \n",
       "                0                 0                 0                 0 \n",
       "            Sales             Month              Year Name of Sales Rep \n",
       "                0                 0                 0                 0 \n",
       "          Manager        Sales Team \n",
       "                0                 0 "
      ]
     },
     "metadata": {},
     "output_type": "display_data"
    }
   ],
   "source": [
    "colSums(is.na(df))"
   ]
  },
  {
   "cell_type": "markdown",
   "id": "711c6573",
   "metadata": {
    "papermill": {
     "duration": 0.006528,
     "end_time": "2025-07-28T23:46:03.198586",
     "exception": false,
     "start_time": "2025-07-28T23:46:03.192058",
     "status": "completed"
    },
    "tags": []
   },
   "source": [
    "### Clean the Data"
   ]
  },
  {
   "cell_type": "code",
   "execution_count": 7,
   "id": "52dadfda",
   "metadata": {
    "execution": {
     "iopub.execute_input": "2025-07-28T23:46:03.215280Z",
     "iopub.status.busy": "2025-07-28T23:46:03.213807Z",
     "iopub.status.idle": "2025-07-28T23:46:03.305213Z",
     "shell.execute_reply": "2025-07-28T23:46:03.303478Z"
    },
    "papermill": {
     "duration": 0.102628,
     "end_time": "2025-07-28T23:46:03.307791",
     "exception": false,
     "start_time": "2025-07-28T23:46:03.205163",
     "status": "completed"
    },
    "tags": []
   },
   "outputs": [],
   "source": [
    "# Remove rows with missing or negative values in critical columns\n",
    "df_clean <- df %>%\n",
    "  filter(!is.na(Sales), Sales >= 0, !is.na(Quantity), Quantity >= 0)"
   ]
  },
  {
   "cell_type": "markdown",
   "id": "58f2affb",
   "metadata": {
    "papermill": {
     "duration": 0.006345,
     "end_time": "2025-07-28T23:46:03.320524",
     "exception": false,
     "start_time": "2025-07-28T23:46:03.314179",
     "status": "completed"
    },
    "tags": []
   },
   "source": [
    "### Add calc_amount Column"
   ]
  },
  {
   "cell_type": "code",
   "execution_count": 8,
   "id": "fe9625c3",
   "metadata": {
    "execution": {
     "iopub.execute_input": "2025-07-28T23:46:03.336654Z",
     "iopub.status.busy": "2025-07-28T23:46:03.335124Z",
     "iopub.status.idle": "2025-07-28T23:46:03.354332Z",
     "shell.execute_reply": "2025-07-28T23:46:03.352626Z"
    },
    "papermill": {
     "duration": 0.030008,
     "end_time": "2025-07-28T23:46:03.356867",
     "exception": false,
     "start_time": "2025-07-28T23:46:03.326859",
     "status": "completed"
    },
    "tags": []
   },
   "outputs": [],
   "source": [
    "df_clean <- df_clean %>%\n",
    "  mutate(calc_amount = Quantity * Price)"
   ]
  },
  {
   "cell_type": "markdown",
   "id": "f449dd95",
   "metadata": {
    "papermill": {
     "duration": 0.006593,
     "end_time": "2025-07-28T23:46:03.369708",
     "exception": false,
     "start_time": "2025-07-28T23:46:03.363115",
     "status": "completed"
    },
    "tags": []
   },
   "source": [
    " ### Create a Date Column"
   ]
  },
  {
   "cell_type": "code",
   "execution_count": 9,
   "id": "e81731d9",
   "metadata": {
    "execution": {
     "iopub.execute_input": "2025-07-28T23:46:03.385817Z",
     "iopub.status.busy": "2025-07-28T23:46:03.384330Z",
     "iopub.status.idle": "2025-07-28T23:46:04.637842Z",
     "shell.execute_reply": "2025-07-28T23:46:04.636066Z"
    },
    "papermill": {
     "duration": 1.26438,
     "end_time": "2025-07-28T23:46:04.640401",
     "exception": false,
     "start_time": "2025-07-28T23:46:03.376021",
     "status": "completed"
    },
    "tags": []
   },
   "outputs": [],
   "source": [
    "# Convert Month + Year to actual date\n",
    "df_clean <- df_clean %>%\n",
    "  mutate(Month_Num = match(Month, month.name),\n",
    "         Date = as.Date(paste(Year, Month_Num, \"01\", sep = \"-\"))) %>%\n",
    "  select(Date, everything(), -Month_Num)"
   ]
  },
  {
   "cell_type": "markdown",
   "id": "98b784a7",
   "metadata": {
    "papermill": {
     "duration": 0.00647,
     "end_time": "2025-07-28T23:46:04.653407",
     "exception": false,
     "start_time": "2025-07-28T23:46:04.646937",
     "status": "completed"
    },
    "tags": []
   },
   "source": [
    "### Investigate negative values (if any remained)"
   ]
  },
  {
   "cell_type": "code",
   "execution_count": 10,
   "id": "ce7e773f",
   "metadata": {
    "execution": {
     "iopub.execute_input": "2025-07-28T23:46:04.669685Z",
     "iopub.status.busy": "2025-07-28T23:46:04.668168Z",
     "iopub.status.idle": "2025-07-28T23:46:04.869877Z",
     "shell.execute_reply": "2025-07-28T23:46:04.868128Z"
    },
    "papermill": {
     "duration": 0.213368,
     "end_time": "2025-07-28T23:46:04.873102",
     "exception": false,
     "start_time": "2025-07-28T23:46:04.659734",
     "status": "completed"
    },
    "tags": []
   },
   "outputs": [
    {
     "data": {
      "text/html": [
       "<table class=\"dataframe\">\n",
       "<caption>A spec_tbl_df: 2633 × 18</caption>\n",
       "<thead>\n",
       "\t<tr><th scope=col>Distributor</th><th scope=col>Customer Name</th><th scope=col>City</th><th scope=col>Country</th><th scope=col>Latitude</th><th scope=col>Longitude</th><th scope=col>Channel</th><th scope=col>Sub-channel</th><th scope=col>Product Name</th><th scope=col>Product Class</th><th scope=col>Quantity</th><th scope=col>Price</th><th scope=col>Sales</th><th scope=col>Month</th><th scope=col>Year</th><th scope=col>Name of Sales Rep</th><th scope=col>Manager</th><th scope=col>Sales Team</th></tr>\n",
       "\t<tr><th scope=col>&lt;chr&gt;</th><th scope=col>&lt;chr&gt;</th><th scope=col>&lt;chr&gt;</th><th scope=col>&lt;chr&gt;</th><th scope=col>&lt;dbl&gt;</th><th scope=col>&lt;dbl&gt;</th><th scope=col>&lt;chr&gt;</th><th scope=col>&lt;chr&gt;</th><th scope=col>&lt;chr&gt;</th><th scope=col>&lt;chr&gt;</th><th scope=col>&lt;dbl&gt;</th><th scope=col>&lt;dbl&gt;</th><th scope=col>&lt;dbl&gt;</th><th scope=col>&lt;chr&gt;</th><th scope=col>&lt;dbl&gt;</th><th scope=col>&lt;chr&gt;</th><th scope=col>&lt;chr&gt;</th><th scope=col>&lt;chr&gt;</th></tr>\n",
       "</thead>\n",
       "<tbody>\n",
       "\t<tr><td>Rohan         </td><td>Zieme, Doyle and Kunze                              </td><td>Lublin                 </td><td>Poland </td><td>51.2333</td><td>22.5667</td><td>Hospital</td><td>Private    </td><td>Exotropin Empizine      </td><td>Mood Stabilizers</td><td> -19</td><td>785</td><td>-14915</td><td>February</td><td>2018</td><td>Anne Wu          </td><td>Britanny Bold  </td><td>Delta  </td></tr>\n",
       "\t<tr><td>Rohan         </td><td>Nader-Gaylord Pharmaceutical Limited                </td><td>Sobótka                </td><td>Poland </td><td>50.8986</td><td>16.7444</td><td>Hospital</td><td>Private    </td><td>Epzipitant              </td><td>Analgesics      </td><td> -12</td><td>778</td><td> -9336</td><td>February</td><td>2018</td><td>Thompson Crawford</td><td>James Goodwill </td><td>Alfa   </td></tr>\n",
       "\t<tr><td>Rohan         </td><td>Buckridge, Dach and Carroll Pharmaceutical Limited  </td><td>Luboń                  </td><td>Poland </td><td>52.3333</td><td>16.8833</td><td>Hospital</td><td>Private    </td><td>Belavarix Benzabicin    </td><td>Antibiotics     </td><td>  -1</td><td>131</td><td>  -131</td><td>November</td><td>2018</td><td>Morris Garcia    </td><td>Tracy Banks    </td><td>Bravo  </td></tr>\n",
       "\t<tr><td>Prohaska-Kuhic</td><td>Wiegand, Jast and Yost Pharma Plc                   </td><td>Płock                  </td><td>Poland </td><td>52.5500</td><td>19.7000</td><td>Hospital</td><td>Private    </td><td>Afinitasol              </td><td>Antipiretics    </td><td>  -5</td><td>286</td><td> -1430</td><td>February</td><td>2018</td><td>Jessica Smith    </td><td>Britanny Bold  </td><td>Delta  </td></tr>\n",
       "\t<tr><td>Prohaska-Kuhic</td><td>Pfeffer-Hodkiewicz Pharmaceutical Ltd               </td><td>Szczytno               </td><td>Poland </td><td>53.5628</td><td>20.9853</td><td>Hospital</td><td>Government </td><td>Sucprine Specbalamin    </td><td>Antiseptics     </td><td> -50</td><td>182</td><td> -9100</td><td>March   </td><td>2018</td><td>Jimmy Grey       </td><td>Alisha Cordwell</td><td>Charlie</td></tr>\n",
       "\t<tr><td>Prohaska-Kuhic</td><td>Herman, Rice and Rippin                             </td><td>Ziębice                </td><td>Poland </td><td>50.6000</td><td>17.0444</td><td>Hospital</td><td>Government </td><td>Amamadin                </td><td>Antimalarial    </td><td>-100</td><td>713</td><td>-71300</td><td>March   </td><td>2018</td><td>Jessica Smith    </td><td>Britanny Bold  </td><td>Delta  </td></tr>\n",
       "\t<tr><td>Prohaska-Kuhic</td><td>Will and Sons Pharma Plc                            </td><td>Gniew                  </td><td>Poland </td><td>53.8333</td><td>18.8333</td><td>Pharmacy</td><td>Retail     </td><td>Brimorix Amonine        </td><td>Antibiotics     </td><td>  -2</td><td>398</td><td>  -796</td><td>May     </td><td>2018</td><td>Mary Gerrard     </td><td>Britanny Bold  </td><td>Delta  </td></tr>\n",
       "\t<tr><td>Prohaska-Kuhic</td><td>Hansen, Fadel and Schroeder Pharm                   </td><td>Gniezno                </td><td>Poland </td><td>52.5333</td><td>17.6000</td><td>Pharmacy</td><td>Retail     </td><td>Sevotrana Tiafoxin      </td><td>Analgesics      </td><td> -60</td><td>460</td><td>-27600</td><td>June    </td><td>2018</td><td>Anne Wu          </td><td>Britanny Bold  </td><td>Delta  </td></tr>\n",
       "\t<tr><td>Prohaska-Kuhic</td><td>Purdy Ltd Pharmaceutical Limited                    </td><td>Głuchołazy             </td><td>Poland </td><td>50.3131</td><td>17.3742</td><td>Hospital</td><td>Government </td><td>Afluferon Entrarenone   </td><td>Antimalarial    </td><td> -10</td><td>104</td><td> -1040</td><td>July    </td><td>2018</td><td>Jimmy Grey       </td><td>Alisha Cordwell</td><td>Charlie</td></tr>\n",
       "\t<tr><td>Prohaska-Kuhic</td><td>Kling Inc Pharmaceutical Ltd                        </td><td>Ostrowiec Świętokrzyski</td><td>Poland </td><td>50.9333</td><td>21.4000</td><td>Pharmacy</td><td>Institution</td><td>Androporin              </td><td>Antiseptics     </td><td> -10</td><td>659</td><td> -6590</td><td>July    </td><td>2018</td><td>Mary Gerrard     </td><td>Britanny Bold  </td><td>Delta  </td></tr>\n",
       "\t<tr><td>Rohan         </td><td>Zemlak Group Pharmaceutical Limited                 </td><td>Koszalin               </td><td>Poland </td><td>54.1903</td><td>16.1817</td><td>Hospital</td><td>Private    </td><td>Interzide               </td><td>Antimalarial    </td><td>  -2</td><td>420</td><td>  -840</td><td>August  </td><td>2018</td><td>Jimmy Grey       </td><td>Alisha Cordwell</td><td>Charlie</td></tr>\n",
       "\t<tr><td>Prohaska-Kuhic</td><td>Heller-Abernathy                                    </td><td>Brzeg Dolny            </td><td>Poland </td><td>51.2730</td><td>16.7081</td><td>Hospital</td><td>Private    </td><td>Lovapur                 </td><td>Mood Stabilizers</td><td> -10</td><td>551</td><td> -5510</td><td>October </td><td>2018</td><td>Jimmy Grey       </td><td>Alisha Cordwell</td><td>Charlie</td></tr>\n",
       "\t<tr><td>Prohaska-Kuhic</td><td>Schulist-Zulauf Pharm                               </td><td>Tychy                  </td><td>Poland </td><td>50.1667</td><td>19.0000</td><td>Hospital</td><td>Private    </td><td>Malaxolol Aeroprosyn    </td><td>Antiseptics     </td><td> -47</td><td>502</td><td>-23594</td><td>November</td><td>2018</td><td>Sheila Stones    </td><td>Britanny Bold  </td><td>Delta  </td></tr>\n",
       "\t<tr><td>Prohaska-Kuhic</td><td>Carter-Conn Pharma Plc                              </td><td>Brwinów                </td><td>Poland </td><td>52.1417</td><td>20.7167</td><td>Hospital</td><td>Private    </td><td>Fosinofen               </td><td>Antipiretics    </td><td>  -1</td><td>385</td><td>  -385</td><td>December</td><td>2018</td><td>Jimmy Grey       </td><td>Alisha Cordwell</td><td>Charlie</td></tr>\n",
       "\t<tr><td>Prohaska-Kuhic</td><td>Monahan Ltd                                         </td><td>Oświęcim               </td><td>Poland </td><td>50.0333</td><td>19.2333</td><td>Hospital</td><td>Government </td><td>Dexacilin Triline       </td><td>Analgesics      </td><td>  -1</td><td>129</td><td>  -129</td><td>December</td><td>2018</td><td>Morris Garcia    </td><td>Tracy Banks    </td><td>Bravo  </td></tr>\n",
       "\t<tr><td>Prohaska-Kuhic</td><td>Koch-Osinski Pharm                                  </td><td>Sandomierz             </td><td>Poland </td><td>50.6833</td><td>21.7500</td><td>Hospital</td><td>Government </td><td>Ganineva Agenium        </td><td>Antiseptics     </td><td>  -2</td><td>390</td><td>  -780</td><td>April   </td><td>2018</td><td>Anne Wu          </td><td>Britanny Bold  </td><td>Delta  </td></tr>\n",
       "\t<tr><td>Prohaska-Kuhic</td><td>Breitenberg-Kuhn Pharmacy                           </td><td>Radom                  </td><td>Poland </td><td>51.4036</td><td>21.1567</td><td>Hospital</td><td>Private    </td><td>Sevoderm                </td><td>Antipiretics    </td><td>  -4</td><td>663</td><td> -2652</td><td>May     </td><td>2018</td><td>Alan Ray         </td><td>James Goodwill </td><td>Alfa   </td></tr>\n",
       "\t<tr><td>Prohaska-Kuhic</td><td>Trantow LLC Pharma Plc                              </td><td>Braniewo               </td><td>Poland </td><td>54.3833</td><td>19.8333</td><td>Pharmacy</td><td>Retail     </td><td>Zonixamine Immulinum    </td><td>Analgesics      </td><td>  -2</td><td>298</td><td>  -596</td><td>October </td><td>2018</td><td>Mary Gerrard     </td><td>Britanny Bold  </td><td>Delta  </td></tr>\n",
       "\t<tr><td>Cassin        </td><td>Towne, Cummerata and Blanda Pharm                   </td><td>Kalisz                 </td><td>Poland </td><td>51.7570</td><td>18.0830</td><td>Hospital</td><td>Private    </td><td>Nisorase                </td><td>Antibiotics     </td><td> -10</td><td>393</td><td> -3930</td><td>October </td><td>2018</td><td>Sheila Stones    </td><td>Britanny Bold  </td><td>Delta  </td></tr>\n",
       "\t<tr><td>Prohaska-Kuhic</td><td>Lindgren-Simonis Pharm                              </td><td>Biskupiec              </td><td>Poland </td><td>53.8647</td><td>20.9569</td><td>Pharmacy</td><td>Retail     </td><td>Amphesirox              </td><td>Antiseptics     </td><td>  -3</td><td> 25</td><td>   -75</td><td>November</td><td>2018</td><td>Erica Jones      </td><td>James Goodwill </td><td>Alfa   </td></tr>\n",
       "\t<tr><td>Koss          </td><td>Walter Ltd Pharmaceutical Limited                   </td><td>Neubrandenburg         </td><td>Germany</td><td>53.5569</td><td>13.2608</td><td>Pharmacy</td><td>Institution</td><td>Apronazol               </td><td>Antibiotics     </td><td>  -3</td><td>472</td><td> -1416</td><td>January </td><td>2017</td><td>Mary Gerrard     </td><td>Britanny Bold  </td><td>Delta  </td></tr>\n",
       "\t<tr><td>Koss          </td><td>Reilly Ltd Pharma Plc                               </td><td>Königsbrunn            </td><td>Germany</td><td>48.2689</td><td>10.8908</td><td>Hospital</td><td>Private    </td><td>Aquamycin Lacoran       </td><td>Analgesics      </td><td> -40</td><td>345</td><td>-13800</td><td>January </td><td>2017</td><td>Sheila Stones    </td><td>Britanny Bold  </td><td>Delta  </td></tr>\n",
       "\t<tr><td>Koss          </td><td>Schinner, Gaylord and Treutel Pharmaceutical Limited</td><td>Ahrensburg             </td><td>Germany</td><td>53.6747</td><td>10.2411</td><td>Hospital</td><td>Private    </td><td>Ketamara Evogel         </td><td>Antipiretics    </td><td>  -1</td><td>704</td><td>  -704</td><td>January </td><td>2017</td><td>Abigail Thompson </td><td>Tracy Banks    </td><td>Bravo  </td></tr>\n",
       "\t<tr><td>Koss          </td><td>Gerhold, Mills and Effertz Pharma Plc               </td><td>Stadthagen             </td><td>Germany</td><td>52.3247</td><td> 9.2069</td><td>Hospital</td><td>Private    </td><td>Quixitriptan Alanesin   </td><td>Antiseptics     </td><td>  -4</td><td> 79</td><td>  -316</td><td>January </td><td>2017</td><td>Jimmy Grey       </td><td>Alisha Cordwell</td><td>Charlie</td></tr>\n",
       "\t<tr><td>Koss          </td><td>Vandervort LLC Pharm                                </td><td>Stade                  </td><td>Germany</td><td>53.6008</td><td> 9.4764</td><td>Pharmacy</td><td>Retail     </td><td>Ceftatana Serolamide    </td><td>Antipiretics    </td><td>  -8</td><td>595</td><td> -4760</td><td>January </td><td>2017</td><td>Anne Wu          </td><td>Britanny Bold  </td><td>Delta  </td></tr>\n",
       "\t<tr><td>Koss          </td><td>Bogan, Jacobs and Kris Pharmaceutical Ltd           </td><td>Heppenheim             </td><td>Germany</td><td>49.6415</td><td> 8.6450</td><td>Hospital</td><td>Government </td><td>Halcifergen Nevazone    </td><td>Antimalarial    </td><td>  -1</td><td>710</td><td>  -710</td><td>January </td><td>2017</td><td>Morris Garcia    </td><td>Tracy Banks    </td><td>Bravo  </td></tr>\n",
       "\t<tr><td>Koss          </td><td>Denesik, Walter and Beatty Pharmacy                 </td><td>Ludwigsfelde           </td><td>Germany</td><td>52.2997</td><td>13.2667</td><td>Hospital</td><td>Private    </td><td>Ibruferon               </td><td>Antiseptics     </td><td>  -5</td><td> 82</td><td>  -410</td><td>January </td><td>2017</td><td>Sheila Stones    </td><td>Britanny Bold  </td><td>Delta  </td></tr>\n",
       "\t<tr><td>Koss          </td><td>Kreiger Inc                                         </td><td>Burgdorf               </td><td>Germany</td><td>52.4500</td><td>10.0083</td><td>Pharmacy</td><td>Retail     </td><td>Propralamide Dexlanzolam</td><td>Mood Stabilizers</td><td> -75</td><td>391</td><td>-29325</td><td>January </td><td>2017</td><td>Steve Pepple     </td><td>Tracy Banks    </td><td>Bravo  </td></tr>\n",
       "\t<tr><td>Koss          </td><td>Crona Group                                         </td><td>Viersen                </td><td>Germany</td><td>51.2556</td><td> 6.3917</td><td>Hospital</td><td>Government </td><td>Fentatrol Rapatelase    </td><td>Antibiotics     </td><td> -40</td><td>458</td><td>-18320</td><td>January </td><td>2017</td><td>Steve Pepple     </td><td>Tracy Banks    </td><td>Bravo  </td></tr>\n",
       "\t<tr><td>Koss          </td><td>Crist LLC                                           </td><td>Mühlacker              </td><td>Germany</td><td>48.9500</td><td> 8.8392</td><td>Pharmacy</td><td>Institution</td><td>Tracdomide              </td><td>Antipiretics    </td><td>  -1</td><td>548</td><td>  -548</td><td>January </td><td>2017</td><td>Jessica Smith    </td><td>Britanny Bold  </td><td>Delta  </td></tr>\n",
       "\t<tr><td>⋮</td><td>⋮</td><td>⋮</td><td>⋮</td><td>⋮</td><td>⋮</td><td>⋮</td><td>⋮</td><td>⋮</td><td>⋮</td><td>⋮</td><td>⋮</td><td>⋮</td><td>⋮</td><td>⋮</td><td>⋮</td><td>⋮</td><td>⋮</td></tr>\n",
       "\t<tr><td>Erdman</td><td>Beahan, Littel and Ondricka Pharma Plc            </td><td>Salzwedel           </td><td>Germany</td><td>52.8500</td><td>11.1500</td><td>Hospital</td><td>Government </td><td>Kiovax Tercorolac     </td><td>Analgesics      </td><td> -140</td><td>722</td><td>-101080</td><td>December</td><td>2020</td><td>Steve Pepple     </td><td>Tracy Banks    </td><td>Bravo  </td></tr>\n",
       "\t<tr><td>Koss  </td><td>Kunze PLC Pharma Plc                              </td><td>Eisenach            </td><td>Germany</td><td>50.9747</td><td>10.3244</td><td>Hospital</td><td>Government </td><td>Alpradipine           </td><td>Analgesics      </td><td>  -10</td><td>445</td><td>  -4450</td><td>December</td><td>2020</td><td>Sheila Stones    </td><td>Britanny Bold  </td><td>Delta  </td></tr>\n",
       "\t<tr><td>Koss  </td><td>Fadel-West Pharmaceutical Ltd                     </td><td>Filderstadt         </td><td>Germany</td><td>48.6667</td><td> 9.2167</td><td>Pharmacy</td><td>Retail     </td><td>Quixitriptan Alanesin </td><td>Antiseptics     </td><td>  -72</td><td> 79</td><td>  -5688</td><td>December</td><td>2020</td><td>Abigail Thompson </td><td>Tracy Banks    </td><td>Bravo  </td></tr>\n",
       "\t<tr><td>Koss  </td><td>Miller-Satterfield Pharm                          </td><td>Heinsberg           </td><td>Germany</td><td>51.0631</td><td> 6.0964</td><td>Pharmacy</td><td>Institution</td><td>Amcibax Amcikeran     </td><td>Analgesics      </td><td> -300</td><td>319</td><td> -95700</td><td>December</td><td>2020</td><td>Alan Ray         </td><td>James Goodwill </td><td>Alfa   </td></tr>\n",
       "\t<tr><td>Koss  </td><td>Hirthe, Williamson and Macejkovic Pharmacy        </td><td>Landshut            </td><td>Germany</td><td>48.5397</td><td>12.1508</td><td>Hospital</td><td>Government </td><td>Androporin            </td><td>Antiseptics     </td><td>  -27</td><td>659</td><td> -17793</td><td>December</td><td>2020</td><td>Sheila Stones    </td><td>Britanny Bold  </td><td>Delta  </td></tr>\n",
       "\t<tr><td>Koss  </td><td>White Inc Pharm                                   </td><td>Ehingen an der Donau</td><td>Germany</td><td>48.2833</td><td> 9.7236</td><td>Pharmacy</td><td>Retail     </td><td>Travoloride           </td><td>Antiseptics     </td><td>  -23</td><td>785</td><td> -18055</td><td>December</td><td>2020</td><td>Erica Jones      </td><td>James Goodwill </td><td>Alfa   </td></tr>\n",
       "\t<tr><td>Koss  </td><td>Haag, Bradtke and Terry Pharm                     </td><td>Hanau               </td><td>Germany</td><td>50.1328</td><td> 8.9169</td><td>Hospital</td><td>Government </td><td>Lacoplex Hyaluvance   </td><td>Mood Stabilizers</td><td>  -20</td><td>334</td><td>  -6680</td><td>December</td><td>2020</td><td>Anne Wu          </td><td>Britanny Bold  </td><td>Delta  </td></tr>\n",
       "\t<tr><td>Koss  </td><td>Schaefer-Rolfson Pharma Plc                       </td><td>Freiberg            </td><td>Germany</td><td>50.9119</td><td>13.3428</td><td>Pharmacy</td><td>Retail     </td><td>Testant               </td><td>Mood Stabilizers</td><td>  -50</td><td>488</td><td> -24400</td><td>December</td><td>2020</td><td>Daniel Gates     </td><td>Alisha Cordwell</td><td>Charlie</td></tr>\n",
       "\t<tr><td>Koss  </td><td>Senger-Kirlin Pharma Plc                          </td><td>Soest               </td><td>Germany</td><td>51.5711</td><td> 8.1092</td><td>Hospital</td><td>Government </td><td>Argalazine Abostryl   </td><td>Antipiretics    </td><td>  -50</td><td>628</td><td> -31400</td><td>December</td><td>2020</td><td>Mary Gerrard     </td><td>Britanny Bold  </td><td>Delta  </td></tr>\n",
       "\t<tr><td>Koss  </td><td>Sanford, Franecki and Greenholt Pharmaceutical Ltd</td><td>Rheine              </td><td>Germany</td><td>52.2833</td><td> 7.4333</td><td>Pharmacy</td><td>Institution</td><td>Sanctumine            </td><td>Antimalarial    </td><td>  -90</td><td>149</td><td> -13410</td><td>December</td><td>2020</td><td>Mary Gerrard     </td><td>Britanny Bold  </td><td>Delta  </td></tr>\n",
       "\t<tr><td>Koss  </td><td>Steuber Ltd Pharm                                 </td><td>Gera                </td><td>Germany</td><td>50.8782</td><td>12.0824</td><td>Hospital</td><td>Government </td><td>Kinenadryl            </td><td>Antipiretics    </td><td>  -30</td><td>782</td><td> -23460</td><td>December</td><td>2020</td><td>Daniel Gates     </td><td>Alisha Cordwell</td><td>Charlie</td></tr>\n",
       "\t<tr><td>Koss  </td><td>Abernathy Group Pharmacy                          </td><td>Melle               </td><td>Germany</td><td>52.2031</td><td> 8.3361</td><td>Pharmacy</td><td>Retail     </td><td>Flutacerol            </td><td>Analgesics      </td><td> -300</td><td>745</td><td>-223500</td><td>December</td><td>2020</td><td>Abigail Thompson </td><td>Tracy Banks    </td><td>Bravo  </td></tr>\n",
       "\t<tr><td>Koss  </td><td>Jakubowski Inc Pharma Plc                         </td><td>Tönisvorst          </td><td>Germany</td><td>51.3208</td><td> 6.4931</td><td>Hospital</td><td>Government </td><td>Adriacaine            </td><td>Mood Stabilizers</td><td>  -81</td><td>361</td><td> -29241</td><td>December</td><td>2020</td><td>Jessica Smith    </td><td>Britanny Bold  </td><td>Delta  </td></tr>\n",
       "\t<tr><td>Koss  </td><td>Heidenreich Group Pharm                           </td><td>Mannheim            </td><td>Germany</td><td>49.4878</td><td> 8.4661</td><td>Hospital</td><td>Government </td><td>Agalsiline            </td><td>Mood Stabilizers</td><td> -270</td><td> 64</td><td> -17280</td><td>December</td><td>2020</td><td>Daniel Gates     </td><td>Alisha Cordwell</td><td>Charlie</td></tr>\n",
       "\t<tr><td>Koss  </td><td>Reilly Ltd Pharmacy                               </td><td>Sindelfingen        </td><td>Germany</td><td>48.7133</td><td> 9.0028</td><td>Hospital</td><td>Private    </td><td>Proderal              </td><td>Antiseptics     </td><td> -170</td><td> 34</td><td>  -5780</td><td>December</td><td>2020</td><td>Morris Garcia    </td><td>Tracy Banks    </td><td>Bravo  </td></tr>\n",
       "\t<tr><td>Koss  </td><td>Cummings LLC                                      </td><td>Schwäbisch Gmünd    </td><td>Germany</td><td>48.8000</td><td> 9.8000</td><td>Hospital</td><td>Government </td><td>Zonitonin             </td><td>Antiseptics     </td><td> -180</td><td>518</td><td> -93240</td><td>December</td><td>2020</td><td>Stella Given     </td><td>Alisha Cordwell</td><td>Charlie</td></tr>\n",
       "\t<tr><td>Koss  </td><td>Koelpin, Luettgen and Abernathy Pharmaceutical Ltd</td><td>Mörfelden-Walldorf  </td><td>Germany</td><td>49.9896</td><td> 8.5661</td><td>Hospital</td><td>Private    </td><td>Propratecan           </td><td>Antimalarial    </td><td>  -10</td><td>682</td><td>  -6820</td><td>December</td><td>2020</td><td>Jessica Smith    </td><td>Britanny Bold  </td><td>Delta  </td></tr>\n",
       "\t<tr><td>Koss  </td><td>Rutherford and Sons Pharmaceutical Ltd            </td><td>Dresden             </td><td>Germany</td><td>51.0493</td><td>13.7384</td><td>Hospital</td><td>Private    </td><td>Factolamide           </td><td>Antiseptics     </td><td> -100</td><td>345</td><td> -34500</td><td>December</td><td>2020</td><td>Thompson Crawford</td><td>James Goodwill </td><td>Alfa   </td></tr>\n",
       "\t<tr><td>Koss  </td><td>Reinger, Kihn and Goyette Pharmaceutical Limited  </td><td>Overath             </td><td>Germany</td><td>50.9500</td><td> 7.3000</td><td>Hospital</td><td>Government </td><td>Zyvance               </td><td>Analgesics      </td><td> -154</td><td>323</td><td> -49742</td><td>December</td><td>2020</td><td>Abigail Thompson </td><td>Tracy Banks    </td><td>Bravo  </td></tr>\n",
       "\t<tr><td>Koss  </td><td>Fahey-Prosacco Pharmacy                           </td><td>Jena                </td><td>Germany</td><td>50.9272</td><td>11.5864</td><td>Hospital</td><td>Government </td><td>Sevotrana Tiafoxin    </td><td>Analgesics      </td><td>  -24</td><td>460</td><td> -11040</td><td>December</td><td>2020</td><td>Abigail Thompson </td><td>Tracy Banks    </td><td>Bravo  </td></tr>\n",
       "\t<tr><td>Koss  </td><td>Leffler-Russel Pharmaceutical Ltd                 </td><td>Lingen              </td><td>Germany</td><td>52.5233</td><td> 7.3172</td><td>Pharmacy</td><td>Retail     </td><td>Diaxolol              </td><td>Antiseptics     </td><td>   -1</td><td>765</td><td>   -765</td><td>December</td><td>2020</td><td>Alan Ray         </td><td>James Goodwill </td><td>Alfa   </td></tr>\n",
       "\t<tr><td>Koss  </td><td>Zemlak-Witting Pharmaceutical Limited             </td><td>Plettenberg         </td><td>Germany</td><td>51.2128</td><td> 7.8715</td><td>Hospital</td><td>Government </td><td>Feruprazole           </td><td>Mood Stabilizers</td><td> -144</td><td>115</td><td> -16560</td><td>December</td><td>2020</td><td>Jimmy Grey       </td><td>Alisha Cordwell</td><td>Charlie</td></tr>\n",
       "\t<tr><td>Koss  </td><td>Rogahn-Klein Pharm                                </td><td>Donauwörth          </td><td>Germany</td><td>48.7184</td><td>10.7770</td><td>Hospital</td><td>Private    </td><td>Effidomide Evofribrate</td><td>Antiseptics     </td><td>  -15</td><td>612</td><td>  -9180</td><td>December</td><td>2020</td><td>Erica Jones      </td><td>James Goodwill </td><td>Alfa   </td></tr>\n",
       "\t<tr><td>Koss  </td><td>Fritsch-Hauck Pharm                               </td><td>Fürstenwalde        </td><td>Germany</td><td>52.3667</td><td>14.0667</td><td>Hospital</td><td>Government </td><td>Topitaine             </td><td>Mood Stabilizers</td><td>  -30</td><td>517</td><td> -15510</td><td>December</td><td>2020</td><td>Morris Garcia    </td><td>Tracy Banks    </td><td>Bravo  </td></tr>\n",
       "\t<tr><td>Koss  </td><td>Wehner-Stehr                                      </td><td>Steinfurt           </td><td>Germany</td><td>52.1504</td><td> 7.3366</td><td>Pharmacy</td><td>Institution</td><td>Pazofenac             </td><td>Mood Stabilizers</td><td>  -50</td><td>123</td><td>  -6150</td><td>December</td><td>2020</td><td>Daniel Gates     </td><td>Alisha Cordwell</td><td>Charlie</td></tr>\n",
       "\t<tr><td>Koss  </td><td>Murray PLC Pharma Plc                             </td><td>Reinbek             </td><td>Germany</td><td>53.5089</td><td>10.2483</td><td>Hospital</td><td>Private    </td><td>Symbiroban            </td><td>Antibiotics     </td><td> -237</td><td>122</td><td> -28914</td><td>December</td><td>2020</td><td>Morris Garcia    </td><td>Tracy Banks    </td><td>Bravo  </td></tr>\n",
       "\t<tr><td>Koss  </td><td>Kreiger Inc                                       </td><td>Burgdorf            </td><td>Germany</td><td>52.4500</td><td>10.0083</td><td>Pharmacy</td><td>Retail     </td><td>Docstryl Rivacin      </td><td>Antiseptics     </td><td> -660</td><td>789</td><td>-520740</td><td>December</td><td>2020</td><td>Daniel Gates     </td><td>Alisha Cordwell</td><td>Charlie</td></tr>\n",
       "\t<tr><td>Koss  </td><td>Gerhold, Mills and Effertz Pharma Plc             </td><td>Stadthagen          </td><td>Germany</td><td>52.3247</td><td> 9.2069</td><td>Hospital</td><td>Private    </td><td>Pulmofine             </td><td>Antibiotics     </td><td>  -30</td><td>688</td><td> -20640</td><td>December</td><td>2020</td><td>Stella Given     </td><td>Alisha Cordwell</td><td>Charlie</td></tr>\n",
       "\t<tr><td>Koss  </td><td>Pfeffer-Kirlin Pharmacy                           </td><td>Ahlen               </td><td>Germany</td><td>51.7633</td><td> 7.8911</td><td>Pharmacy</td><td>Institution</td><td>Abatatriptan          </td><td>Antibiotics     </td><td>-1100</td><td>742</td><td>-816200</td><td>December</td><td>2020</td><td>Stella Given     </td><td>Alisha Cordwell</td><td>Charlie</td></tr>\n",
       "\t<tr><td>Koss  </td><td>Corkery-Kovacek Pharm                             </td><td>Kehl                </td><td>Germany</td><td>48.5711</td><td> 7.8089</td><td>Hospital</td><td>Private    </td><td>Agalsiline            </td><td>Mood Stabilizers</td><td>-1200</td><td> 64</td><td> -76800</td><td>December</td><td>2020</td><td>Morris Garcia    </td><td>Tracy Banks    </td><td>Bravo  </td></tr>\n",
       "</tbody>\n",
       "</table>\n"
      ],
      "text/latex": [
       "A spec\\_tbl\\_df: 2633 × 18\n",
       "\\begin{tabular}{llllllllllllllllll}\n",
       " Distributor & Customer Name & City & Country & Latitude & Longitude & Channel & Sub-channel & Product Name & Product Class & Quantity & Price & Sales & Month & Year & Name of Sales Rep & Manager & Sales Team\\\\\n",
       " <chr> & <chr> & <chr> & <chr> & <dbl> & <dbl> & <chr> & <chr> & <chr> & <chr> & <dbl> & <dbl> & <dbl> & <chr> & <dbl> & <chr> & <chr> & <chr>\\\\\n",
       "\\hline\n",
       "\t Rohan          & Zieme, Doyle and Kunze                               & Lublin                  & Poland  & 51.2333 & 22.5667 & Hospital & Private     & Exotropin Empizine       & Mood Stabilizers &  -19 & 785 & -14915 & February & 2018 & Anne Wu           & Britanny Bold   & Delta  \\\\\n",
       "\t Rohan          & Nader-Gaylord Pharmaceutical Limited                 & Sobótka                 & Poland  & 50.8986 & 16.7444 & Hospital & Private     & Epzipitant               & Analgesics       &  -12 & 778 &  -9336 & February & 2018 & Thompson Crawford & James Goodwill  & Alfa   \\\\\n",
       "\t Rohan          & Buckridge, Dach and Carroll Pharmaceutical Limited   & Luboń                   & Poland  & 52.3333 & 16.8833 & Hospital & Private     & Belavarix Benzabicin     & Antibiotics      &   -1 & 131 &   -131 & November & 2018 & Morris Garcia     & Tracy Banks     & Bravo  \\\\\n",
       "\t Prohaska-Kuhic & Wiegand, Jast and Yost Pharma Plc                    & Płock                   & Poland  & 52.5500 & 19.7000 & Hospital & Private     & Afinitasol               & Antipiretics     &   -5 & 286 &  -1430 & February & 2018 & Jessica Smith     & Britanny Bold   & Delta  \\\\\n",
       "\t Prohaska-Kuhic & Pfeffer-Hodkiewicz Pharmaceutical Ltd                & Szczytno                & Poland  & 53.5628 & 20.9853 & Hospital & Government  & Sucprine Specbalamin     & Antiseptics      &  -50 & 182 &  -9100 & March    & 2018 & Jimmy Grey        & Alisha Cordwell & Charlie\\\\\n",
       "\t Prohaska-Kuhic & Herman, Rice and Rippin                              & Ziębice                 & Poland  & 50.6000 & 17.0444 & Hospital & Government  & Amamadin                 & Antimalarial     & -100 & 713 & -71300 & March    & 2018 & Jessica Smith     & Britanny Bold   & Delta  \\\\\n",
       "\t Prohaska-Kuhic & Will and Sons Pharma Plc                             & Gniew                   & Poland  & 53.8333 & 18.8333 & Pharmacy & Retail      & Brimorix Amonine         & Antibiotics      &   -2 & 398 &   -796 & May      & 2018 & Mary Gerrard      & Britanny Bold   & Delta  \\\\\n",
       "\t Prohaska-Kuhic & Hansen, Fadel and Schroeder Pharm                    & Gniezno                 & Poland  & 52.5333 & 17.6000 & Pharmacy & Retail      & Sevotrana Tiafoxin       & Analgesics       &  -60 & 460 & -27600 & June     & 2018 & Anne Wu           & Britanny Bold   & Delta  \\\\\n",
       "\t Prohaska-Kuhic & Purdy Ltd Pharmaceutical Limited                     & Głuchołazy              & Poland  & 50.3131 & 17.3742 & Hospital & Government  & Afluferon Entrarenone    & Antimalarial     &  -10 & 104 &  -1040 & July     & 2018 & Jimmy Grey        & Alisha Cordwell & Charlie\\\\\n",
       "\t Prohaska-Kuhic & Kling Inc Pharmaceutical Ltd                         & Ostrowiec Świętokrzyski & Poland  & 50.9333 & 21.4000 & Pharmacy & Institution & Androporin               & Antiseptics      &  -10 & 659 &  -6590 & July     & 2018 & Mary Gerrard      & Britanny Bold   & Delta  \\\\\n",
       "\t Rohan          & Zemlak Group Pharmaceutical Limited                  & Koszalin                & Poland  & 54.1903 & 16.1817 & Hospital & Private     & Interzide                & Antimalarial     &   -2 & 420 &   -840 & August   & 2018 & Jimmy Grey        & Alisha Cordwell & Charlie\\\\\n",
       "\t Prohaska-Kuhic & Heller-Abernathy                                     & Brzeg Dolny             & Poland  & 51.2730 & 16.7081 & Hospital & Private     & Lovapur                  & Mood Stabilizers &  -10 & 551 &  -5510 & October  & 2018 & Jimmy Grey        & Alisha Cordwell & Charlie\\\\\n",
       "\t Prohaska-Kuhic & Schulist-Zulauf Pharm                                & Tychy                   & Poland  & 50.1667 & 19.0000 & Hospital & Private     & Malaxolol Aeroprosyn     & Antiseptics      &  -47 & 502 & -23594 & November & 2018 & Sheila Stones     & Britanny Bold   & Delta  \\\\\n",
       "\t Prohaska-Kuhic & Carter-Conn Pharma Plc                               & Brwinów                 & Poland  & 52.1417 & 20.7167 & Hospital & Private     & Fosinofen                & Antipiretics     &   -1 & 385 &   -385 & December & 2018 & Jimmy Grey        & Alisha Cordwell & Charlie\\\\\n",
       "\t Prohaska-Kuhic & Monahan Ltd                                          & Oświęcim                & Poland  & 50.0333 & 19.2333 & Hospital & Government  & Dexacilin Triline        & Analgesics       &   -1 & 129 &   -129 & December & 2018 & Morris Garcia     & Tracy Banks     & Bravo  \\\\\n",
       "\t Prohaska-Kuhic & Koch-Osinski Pharm                                   & Sandomierz              & Poland  & 50.6833 & 21.7500 & Hospital & Government  & Ganineva Agenium         & Antiseptics      &   -2 & 390 &   -780 & April    & 2018 & Anne Wu           & Britanny Bold   & Delta  \\\\\n",
       "\t Prohaska-Kuhic & Breitenberg-Kuhn Pharmacy                            & Radom                   & Poland  & 51.4036 & 21.1567 & Hospital & Private     & Sevoderm                 & Antipiretics     &   -4 & 663 &  -2652 & May      & 2018 & Alan Ray          & James Goodwill  & Alfa   \\\\\n",
       "\t Prohaska-Kuhic & Trantow LLC Pharma Plc                               & Braniewo                & Poland  & 54.3833 & 19.8333 & Pharmacy & Retail      & Zonixamine Immulinum     & Analgesics       &   -2 & 298 &   -596 & October  & 2018 & Mary Gerrard      & Britanny Bold   & Delta  \\\\\n",
       "\t Cassin         & Towne, Cummerata and Blanda Pharm                    & Kalisz                  & Poland  & 51.7570 & 18.0830 & Hospital & Private     & Nisorase                 & Antibiotics      &  -10 & 393 &  -3930 & October  & 2018 & Sheila Stones     & Britanny Bold   & Delta  \\\\\n",
       "\t Prohaska-Kuhic & Lindgren-Simonis Pharm                               & Biskupiec               & Poland  & 53.8647 & 20.9569 & Pharmacy & Retail      & Amphesirox               & Antiseptics      &   -3 &  25 &    -75 & November & 2018 & Erica Jones       & James Goodwill  & Alfa   \\\\\n",
       "\t Koss           & Walter Ltd Pharmaceutical Limited                    & Neubrandenburg          & Germany & 53.5569 & 13.2608 & Pharmacy & Institution & Apronazol                & Antibiotics      &   -3 & 472 &  -1416 & January  & 2017 & Mary Gerrard      & Britanny Bold   & Delta  \\\\\n",
       "\t Koss           & Reilly Ltd Pharma Plc                                & Königsbrunn             & Germany & 48.2689 & 10.8908 & Hospital & Private     & Aquamycin Lacoran        & Analgesics       &  -40 & 345 & -13800 & January  & 2017 & Sheila Stones     & Britanny Bold   & Delta  \\\\\n",
       "\t Koss           & Schinner, Gaylord and Treutel Pharmaceutical Limited & Ahrensburg              & Germany & 53.6747 & 10.2411 & Hospital & Private     & Ketamara Evogel          & Antipiretics     &   -1 & 704 &   -704 & January  & 2017 & Abigail Thompson  & Tracy Banks     & Bravo  \\\\\n",
       "\t Koss           & Gerhold, Mills and Effertz Pharma Plc                & Stadthagen              & Germany & 52.3247 &  9.2069 & Hospital & Private     & Quixitriptan Alanesin    & Antiseptics      &   -4 &  79 &   -316 & January  & 2017 & Jimmy Grey        & Alisha Cordwell & Charlie\\\\\n",
       "\t Koss           & Vandervort LLC Pharm                                 & Stade                   & Germany & 53.6008 &  9.4764 & Pharmacy & Retail      & Ceftatana Serolamide     & Antipiretics     &   -8 & 595 &  -4760 & January  & 2017 & Anne Wu           & Britanny Bold   & Delta  \\\\\n",
       "\t Koss           & Bogan, Jacobs and Kris Pharmaceutical Ltd            & Heppenheim              & Germany & 49.6415 &  8.6450 & Hospital & Government  & Halcifergen Nevazone     & Antimalarial     &   -1 & 710 &   -710 & January  & 2017 & Morris Garcia     & Tracy Banks     & Bravo  \\\\\n",
       "\t Koss           & Denesik, Walter and Beatty Pharmacy                  & Ludwigsfelde            & Germany & 52.2997 & 13.2667 & Hospital & Private     & Ibruferon                & Antiseptics      &   -5 &  82 &   -410 & January  & 2017 & Sheila Stones     & Britanny Bold   & Delta  \\\\\n",
       "\t Koss           & Kreiger Inc                                          & Burgdorf                & Germany & 52.4500 & 10.0083 & Pharmacy & Retail      & Propralamide Dexlanzolam & Mood Stabilizers &  -75 & 391 & -29325 & January  & 2017 & Steve Pepple      & Tracy Banks     & Bravo  \\\\\n",
       "\t Koss           & Crona Group                                          & Viersen                 & Germany & 51.2556 &  6.3917 & Hospital & Government  & Fentatrol Rapatelase     & Antibiotics      &  -40 & 458 & -18320 & January  & 2017 & Steve Pepple      & Tracy Banks     & Bravo  \\\\\n",
       "\t Koss           & Crist LLC                                            & Mühlacker               & Germany & 48.9500 &  8.8392 & Pharmacy & Institution & Tracdomide               & Antipiretics     &   -1 & 548 &   -548 & January  & 2017 & Jessica Smith     & Britanny Bold   & Delta  \\\\\n",
       "\t ⋮ & ⋮ & ⋮ & ⋮ & ⋮ & ⋮ & ⋮ & ⋮ & ⋮ & ⋮ & ⋮ & ⋮ & ⋮ & ⋮ & ⋮ & ⋮ & ⋮ & ⋮\\\\\n",
       "\t Erdman & Beahan, Littel and Ondricka Pharma Plc             & Salzwedel            & Germany & 52.8500 & 11.1500 & Hospital & Government  & Kiovax Tercorolac      & Analgesics       &  -140 & 722 & -101080 & December & 2020 & Steve Pepple      & Tracy Banks     & Bravo  \\\\\n",
       "\t Koss   & Kunze PLC Pharma Plc                               & Eisenach             & Germany & 50.9747 & 10.3244 & Hospital & Government  & Alpradipine            & Analgesics       &   -10 & 445 &   -4450 & December & 2020 & Sheila Stones     & Britanny Bold   & Delta  \\\\\n",
       "\t Koss   & Fadel-West Pharmaceutical Ltd                      & Filderstadt          & Germany & 48.6667 &  9.2167 & Pharmacy & Retail      & Quixitriptan Alanesin  & Antiseptics      &   -72 &  79 &   -5688 & December & 2020 & Abigail Thompson  & Tracy Banks     & Bravo  \\\\\n",
       "\t Koss   & Miller-Satterfield Pharm                           & Heinsberg            & Germany & 51.0631 &  6.0964 & Pharmacy & Institution & Amcibax Amcikeran      & Analgesics       &  -300 & 319 &  -95700 & December & 2020 & Alan Ray          & James Goodwill  & Alfa   \\\\\n",
       "\t Koss   & Hirthe, Williamson and Macejkovic Pharmacy         & Landshut             & Germany & 48.5397 & 12.1508 & Hospital & Government  & Androporin             & Antiseptics      &   -27 & 659 &  -17793 & December & 2020 & Sheila Stones     & Britanny Bold   & Delta  \\\\\n",
       "\t Koss   & White Inc Pharm                                    & Ehingen an der Donau & Germany & 48.2833 &  9.7236 & Pharmacy & Retail      & Travoloride            & Antiseptics      &   -23 & 785 &  -18055 & December & 2020 & Erica Jones       & James Goodwill  & Alfa   \\\\\n",
       "\t Koss   & Haag, Bradtke and Terry Pharm                      & Hanau                & Germany & 50.1328 &  8.9169 & Hospital & Government  & Lacoplex Hyaluvance    & Mood Stabilizers &   -20 & 334 &   -6680 & December & 2020 & Anne Wu           & Britanny Bold   & Delta  \\\\\n",
       "\t Koss   & Schaefer-Rolfson Pharma Plc                        & Freiberg             & Germany & 50.9119 & 13.3428 & Pharmacy & Retail      & Testant                & Mood Stabilizers &   -50 & 488 &  -24400 & December & 2020 & Daniel Gates      & Alisha Cordwell & Charlie\\\\\n",
       "\t Koss   & Senger-Kirlin Pharma Plc                           & Soest                & Germany & 51.5711 &  8.1092 & Hospital & Government  & Argalazine Abostryl    & Antipiretics     &   -50 & 628 &  -31400 & December & 2020 & Mary Gerrard      & Britanny Bold   & Delta  \\\\\n",
       "\t Koss   & Sanford, Franecki and Greenholt Pharmaceutical Ltd & Rheine               & Germany & 52.2833 &  7.4333 & Pharmacy & Institution & Sanctumine             & Antimalarial     &   -90 & 149 &  -13410 & December & 2020 & Mary Gerrard      & Britanny Bold   & Delta  \\\\\n",
       "\t Koss   & Steuber Ltd Pharm                                  & Gera                 & Germany & 50.8782 & 12.0824 & Hospital & Government  & Kinenadryl             & Antipiretics     &   -30 & 782 &  -23460 & December & 2020 & Daniel Gates      & Alisha Cordwell & Charlie\\\\\n",
       "\t Koss   & Abernathy Group Pharmacy                           & Melle                & Germany & 52.2031 &  8.3361 & Pharmacy & Retail      & Flutacerol             & Analgesics       &  -300 & 745 & -223500 & December & 2020 & Abigail Thompson  & Tracy Banks     & Bravo  \\\\\n",
       "\t Koss   & Jakubowski Inc Pharma Plc                          & Tönisvorst           & Germany & 51.3208 &  6.4931 & Hospital & Government  & Adriacaine             & Mood Stabilizers &   -81 & 361 &  -29241 & December & 2020 & Jessica Smith     & Britanny Bold   & Delta  \\\\\n",
       "\t Koss   & Heidenreich Group Pharm                            & Mannheim             & Germany & 49.4878 &  8.4661 & Hospital & Government  & Agalsiline             & Mood Stabilizers &  -270 &  64 &  -17280 & December & 2020 & Daniel Gates      & Alisha Cordwell & Charlie\\\\\n",
       "\t Koss   & Reilly Ltd Pharmacy                                & Sindelfingen         & Germany & 48.7133 &  9.0028 & Hospital & Private     & Proderal               & Antiseptics      &  -170 &  34 &   -5780 & December & 2020 & Morris Garcia     & Tracy Banks     & Bravo  \\\\\n",
       "\t Koss   & Cummings LLC                                       & Schwäbisch Gmünd     & Germany & 48.8000 &  9.8000 & Hospital & Government  & Zonitonin              & Antiseptics      &  -180 & 518 &  -93240 & December & 2020 & Stella Given      & Alisha Cordwell & Charlie\\\\\n",
       "\t Koss   & Koelpin, Luettgen and Abernathy Pharmaceutical Ltd & Mörfelden-Walldorf   & Germany & 49.9896 &  8.5661 & Hospital & Private     & Propratecan            & Antimalarial     &   -10 & 682 &   -6820 & December & 2020 & Jessica Smith     & Britanny Bold   & Delta  \\\\\n",
       "\t Koss   & Rutherford and Sons Pharmaceutical Ltd             & Dresden              & Germany & 51.0493 & 13.7384 & Hospital & Private     & Factolamide            & Antiseptics      &  -100 & 345 &  -34500 & December & 2020 & Thompson Crawford & James Goodwill  & Alfa   \\\\\n",
       "\t Koss   & Reinger, Kihn and Goyette Pharmaceutical Limited   & Overath              & Germany & 50.9500 &  7.3000 & Hospital & Government  & Zyvance                & Analgesics       &  -154 & 323 &  -49742 & December & 2020 & Abigail Thompson  & Tracy Banks     & Bravo  \\\\\n",
       "\t Koss   & Fahey-Prosacco Pharmacy                            & Jena                 & Germany & 50.9272 & 11.5864 & Hospital & Government  & Sevotrana Tiafoxin     & Analgesics       &   -24 & 460 &  -11040 & December & 2020 & Abigail Thompson  & Tracy Banks     & Bravo  \\\\\n",
       "\t Koss   & Leffler-Russel Pharmaceutical Ltd                  & Lingen               & Germany & 52.5233 &  7.3172 & Pharmacy & Retail      & Diaxolol               & Antiseptics      &    -1 & 765 &    -765 & December & 2020 & Alan Ray          & James Goodwill  & Alfa   \\\\\n",
       "\t Koss   & Zemlak-Witting Pharmaceutical Limited              & Plettenberg          & Germany & 51.2128 &  7.8715 & Hospital & Government  & Feruprazole            & Mood Stabilizers &  -144 & 115 &  -16560 & December & 2020 & Jimmy Grey        & Alisha Cordwell & Charlie\\\\\n",
       "\t Koss   & Rogahn-Klein Pharm                                 & Donauwörth           & Germany & 48.7184 & 10.7770 & Hospital & Private     & Effidomide Evofribrate & Antiseptics      &   -15 & 612 &   -9180 & December & 2020 & Erica Jones       & James Goodwill  & Alfa   \\\\\n",
       "\t Koss   & Fritsch-Hauck Pharm                                & Fürstenwalde         & Germany & 52.3667 & 14.0667 & Hospital & Government  & Topitaine              & Mood Stabilizers &   -30 & 517 &  -15510 & December & 2020 & Morris Garcia     & Tracy Banks     & Bravo  \\\\\n",
       "\t Koss   & Wehner-Stehr                                       & Steinfurt            & Germany & 52.1504 &  7.3366 & Pharmacy & Institution & Pazofenac              & Mood Stabilizers &   -50 & 123 &   -6150 & December & 2020 & Daniel Gates      & Alisha Cordwell & Charlie\\\\\n",
       "\t Koss   & Murray PLC Pharma Plc                              & Reinbek              & Germany & 53.5089 & 10.2483 & Hospital & Private     & Symbiroban             & Antibiotics      &  -237 & 122 &  -28914 & December & 2020 & Morris Garcia     & Tracy Banks     & Bravo  \\\\\n",
       "\t Koss   & Kreiger Inc                                        & Burgdorf             & Germany & 52.4500 & 10.0083 & Pharmacy & Retail      & Docstryl Rivacin       & Antiseptics      &  -660 & 789 & -520740 & December & 2020 & Daniel Gates      & Alisha Cordwell & Charlie\\\\\n",
       "\t Koss   & Gerhold, Mills and Effertz Pharma Plc              & Stadthagen           & Germany & 52.3247 &  9.2069 & Hospital & Private     & Pulmofine              & Antibiotics      &   -30 & 688 &  -20640 & December & 2020 & Stella Given      & Alisha Cordwell & Charlie\\\\\n",
       "\t Koss   & Pfeffer-Kirlin Pharmacy                            & Ahlen                & Germany & 51.7633 &  7.8911 & Pharmacy & Institution & Abatatriptan           & Antibiotics      & -1100 & 742 & -816200 & December & 2020 & Stella Given      & Alisha Cordwell & Charlie\\\\\n",
       "\t Koss   & Corkery-Kovacek Pharm                              & Kehl                 & Germany & 48.5711 &  7.8089 & Hospital & Private     & Agalsiline             & Mood Stabilizers & -1200 &  64 &  -76800 & December & 2020 & Morris Garcia     & Tracy Banks     & Bravo  \\\\\n",
       "\\end{tabular}\n"
      ],
      "text/markdown": [
       "\n",
       "A spec_tbl_df: 2633 × 18\n",
       "\n",
       "| Distributor &lt;chr&gt; | Customer Name &lt;chr&gt; | City &lt;chr&gt; | Country &lt;chr&gt; | Latitude &lt;dbl&gt; | Longitude &lt;dbl&gt; | Channel &lt;chr&gt; | Sub-channel &lt;chr&gt; | Product Name &lt;chr&gt; | Product Class &lt;chr&gt; | Quantity &lt;dbl&gt; | Price &lt;dbl&gt; | Sales &lt;dbl&gt; | Month &lt;chr&gt; | Year &lt;dbl&gt; | Name of Sales Rep &lt;chr&gt; | Manager &lt;chr&gt; | Sales Team &lt;chr&gt; |\n",
       "|---|---|---|---|---|---|---|---|---|---|---|---|---|---|---|---|---|---|\n",
       "| Rohan          | Zieme, Doyle and Kunze                               | Lublin                  | Poland  | 51.2333 | 22.5667 | Hospital | Private     | Exotropin Empizine       | Mood Stabilizers |  -19 | 785 | -14915 | February | 2018 | Anne Wu           | Britanny Bold   | Delta   |\n",
       "| Rohan          | Nader-Gaylord Pharmaceutical Limited                 | Sobótka                 | Poland  | 50.8986 | 16.7444 | Hospital | Private     | Epzipitant               | Analgesics       |  -12 | 778 |  -9336 | February | 2018 | Thompson Crawford | James Goodwill  | Alfa    |\n",
       "| Rohan          | Buckridge, Dach and Carroll Pharmaceutical Limited   | Luboń                   | Poland  | 52.3333 | 16.8833 | Hospital | Private     | Belavarix Benzabicin     | Antibiotics      |   -1 | 131 |   -131 | November | 2018 | Morris Garcia     | Tracy Banks     | Bravo   |\n",
       "| Prohaska-Kuhic | Wiegand, Jast and Yost Pharma Plc                    | Płock                   | Poland  | 52.5500 | 19.7000 | Hospital | Private     | Afinitasol               | Antipiretics     |   -5 | 286 |  -1430 | February | 2018 | Jessica Smith     | Britanny Bold   | Delta   |\n",
       "| Prohaska-Kuhic | Pfeffer-Hodkiewicz Pharmaceutical Ltd                | Szczytno                | Poland  | 53.5628 | 20.9853 | Hospital | Government  | Sucprine Specbalamin     | Antiseptics      |  -50 | 182 |  -9100 | March    | 2018 | Jimmy Grey        | Alisha Cordwell | Charlie |\n",
       "| Prohaska-Kuhic | Herman, Rice and Rippin                              | Ziębice                 | Poland  | 50.6000 | 17.0444 | Hospital | Government  | Amamadin                 | Antimalarial     | -100 | 713 | -71300 | March    | 2018 | Jessica Smith     | Britanny Bold   | Delta   |\n",
       "| Prohaska-Kuhic | Will and Sons Pharma Plc                             | Gniew                   | Poland  | 53.8333 | 18.8333 | Pharmacy | Retail      | Brimorix Amonine         | Antibiotics      |   -2 | 398 |   -796 | May      | 2018 | Mary Gerrard      | Britanny Bold   | Delta   |\n",
       "| Prohaska-Kuhic | Hansen, Fadel and Schroeder Pharm                    | Gniezno                 | Poland  | 52.5333 | 17.6000 | Pharmacy | Retail      | Sevotrana Tiafoxin       | Analgesics       |  -60 | 460 | -27600 | June     | 2018 | Anne Wu           | Britanny Bold   | Delta   |\n",
       "| Prohaska-Kuhic | Purdy Ltd Pharmaceutical Limited                     | Głuchołazy              | Poland  | 50.3131 | 17.3742 | Hospital | Government  | Afluferon Entrarenone    | Antimalarial     |  -10 | 104 |  -1040 | July     | 2018 | Jimmy Grey        | Alisha Cordwell | Charlie |\n",
       "| Prohaska-Kuhic | Kling Inc Pharmaceutical Ltd                         | Ostrowiec Świętokrzyski | Poland  | 50.9333 | 21.4000 | Pharmacy | Institution | Androporin               | Antiseptics      |  -10 | 659 |  -6590 | July     | 2018 | Mary Gerrard      | Britanny Bold   | Delta   |\n",
       "| Rohan          | Zemlak Group Pharmaceutical Limited                  | Koszalin                | Poland  | 54.1903 | 16.1817 | Hospital | Private     | Interzide                | Antimalarial     |   -2 | 420 |   -840 | August   | 2018 | Jimmy Grey        | Alisha Cordwell | Charlie |\n",
       "| Prohaska-Kuhic | Heller-Abernathy                                     | Brzeg Dolny             | Poland  | 51.2730 | 16.7081 | Hospital | Private     | Lovapur                  | Mood Stabilizers |  -10 | 551 |  -5510 | October  | 2018 | Jimmy Grey        | Alisha Cordwell | Charlie |\n",
       "| Prohaska-Kuhic | Schulist-Zulauf Pharm                                | Tychy                   | Poland  | 50.1667 | 19.0000 | Hospital | Private     | Malaxolol Aeroprosyn     | Antiseptics      |  -47 | 502 | -23594 | November | 2018 | Sheila Stones     | Britanny Bold   | Delta   |\n",
       "| Prohaska-Kuhic | Carter-Conn Pharma Plc                               | Brwinów                 | Poland  | 52.1417 | 20.7167 | Hospital | Private     | Fosinofen                | Antipiretics     |   -1 | 385 |   -385 | December | 2018 | Jimmy Grey        | Alisha Cordwell | Charlie |\n",
       "| Prohaska-Kuhic | Monahan Ltd                                          | Oświęcim                | Poland  | 50.0333 | 19.2333 | Hospital | Government  | Dexacilin Triline        | Analgesics       |   -1 | 129 |   -129 | December | 2018 | Morris Garcia     | Tracy Banks     | Bravo   |\n",
       "| Prohaska-Kuhic | Koch-Osinski Pharm                                   | Sandomierz              | Poland  | 50.6833 | 21.7500 | Hospital | Government  | Ganineva Agenium         | Antiseptics      |   -2 | 390 |   -780 | April    | 2018 | Anne Wu           | Britanny Bold   | Delta   |\n",
       "| Prohaska-Kuhic | Breitenberg-Kuhn Pharmacy                            | Radom                   | Poland  | 51.4036 | 21.1567 | Hospital | Private     | Sevoderm                 | Antipiretics     |   -4 | 663 |  -2652 | May      | 2018 | Alan Ray          | James Goodwill  | Alfa    |\n",
       "| Prohaska-Kuhic | Trantow LLC Pharma Plc                               | Braniewo                | Poland  | 54.3833 | 19.8333 | Pharmacy | Retail      | Zonixamine Immulinum     | Analgesics       |   -2 | 298 |   -596 | October  | 2018 | Mary Gerrard      | Britanny Bold   | Delta   |\n",
       "| Cassin         | Towne, Cummerata and Blanda Pharm                    | Kalisz                  | Poland  | 51.7570 | 18.0830 | Hospital | Private     | Nisorase                 | Antibiotics      |  -10 | 393 |  -3930 | October  | 2018 | Sheila Stones     | Britanny Bold   | Delta   |\n",
       "| Prohaska-Kuhic | Lindgren-Simonis Pharm                               | Biskupiec               | Poland  | 53.8647 | 20.9569 | Pharmacy | Retail      | Amphesirox               | Antiseptics      |   -3 |  25 |    -75 | November | 2018 | Erica Jones       | James Goodwill  | Alfa    |\n",
       "| Koss           | Walter Ltd Pharmaceutical Limited                    | Neubrandenburg          | Germany | 53.5569 | 13.2608 | Pharmacy | Institution | Apronazol                | Antibiotics      |   -3 | 472 |  -1416 | January  | 2017 | Mary Gerrard      | Britanny Bold   | Delta   |\n",
       "| Koss           | Reilly Ltd Pharma Plc                                | Königsbrunn             | Germany | 48.2689 | 10.8908 | Hospital | Private     | Aquamycin Lacoran        | Analgesics       |  -40 | 345 | -13800 | January  | 2017 | Sheila Stones     | Britanny Bold   | Delta   |\n",
       "| Koss           | Schinner, Gaylord and Treutel Pharmaceutical Limited | Ahrensburg              | Germany | 53.6747 | 10.2411 | Hospital | Private     | Ketamara Evogel          | Antipiretics     |   -1 | 704 |   -704 | January  | 2017 | Abigail Thompson  | Tracy Banks     | Bravo   |\n",
       "| Koss           | Gerhold, Mills and Effertz Pharma Plc                | Stadthagen              | Germany | 52.3247 |  9.2069 | Hospital | Private     | Quixitriptan Alanesin    | Antiseptics      |   -4 |  79 |   -316 | January  | 2017 | Jimmy Grey        | Alisha Cordwell | Charlie |\n",
       "| Koss           | Vandervort LLC Pharm                                 | Stade                   | Germany | 53.6008 |  9.4764 | Pharmacy | Retail      | Ceftatana Serolamide     | Antipiretics     |   -8 | 595 |  -4760 | January  | 2017 | Anne Wu           | Britanny Bold   | Delta   |\n",
       "| Koss           | Bogan, Jacobs and Kris Pharmaceutical Ltd            | Heppenheim              | Germany | 49.6415 |  8.6450 | Hospital | Government  | Halcifergen Nevazone     | Antimalarial     |   -1 | 710 |   -710 | January  | 2017 | Morris Garcia     | Tracy Banks     | Bravo   |\n",
       "| Koss           | Denesik, Walter and Beatty Pharmacy                  | Ludwigsfelde            | Germany | 52.2997 | 13.2667 | Hospital | Private     | Ibruferon                | Antiseptics      |   -5 |  82 |   -410 | January  | 2017 | Sheila Stones     | Britanny Bold   | Delta   |\n",
       "| Koss           | Kreiger Inc                                          | Burgdorf                | Germany | 52.4500 | 10.0083 | Pharmacy | Retail      | Propralamide Dexlanzolam | Mood Stabilizers |  -75 | 391 | -29325 | January  | 2017 | Steve Pepple      | Tracy Banks     | Bravo   |\n",
       "| Koss           | Crona Group                                          | Viersen                 | Germany | 51.2556 |  6.3917 | Hospital | Government  | Fentatrol Rapatelase     | Antibiotics      |  -40 | 458 | -18320 | January  | 2017 | Steve Pepple      | Tracy Banks     | Bravo   |\n",
       "| Koss           | Crist LLC                                            | Mühlacker               | Germany | 48.9500 |  8.8392 | Pharmacy | Institution | Tracdomide               | Antipiretics     |   -1 | 548 |   -548 | January  | 2017 | Jessica Smith     | Britanny Bold   | Delta   |\n",
       "| ⋮ | ⋮ | ⋮ | ⋮ | ⋮ | ⋮ | ⋮ | ⋮ | ⋮ | ⋮ | ⋮ | ⋮ | ⋮ | ⋮ | ⋮ | ⋮ | ⋮ | ⋮ |\n",
       "| Erdman | Beahan, Littel and Ondricka Pharma Plc             | Salzwedel            | Germany | 52.8500 | 11.1500 | Hospital | Government  | Kiovax Tercorolac      | Analgesics       |  -140 | 722 | -101080 | December | 2020 | Steve Pepple      | Tracy Banks     | Bravo   |\n",
       "| Koss   | Kunze PLC Pharma Plc                               | Eisenach             | Germany | 50.9747 | 10.3244 | Hospital | Government  | Alpradipine            | Analgesics       |   -10 | 445 |   -4450 | December | 2020 | Sheila Stones     | Britanny Bold   | Delta   |\n",
       "| Koss   | Fadel-West Pharmaceutical Ltd                      | Filderstadt          | Germany | 48.6667 |  9.2167 | Pharmacy | Retail      | Quixitriptan Alanesin  | Antiseptics      |   -72 |  79 |   -5688 | December | 2020 | Abigail Thompson  | Tracy Banks     | Bravo   |\n",
       "| Koss   | Miller-Satterfield Pharm                           | Heinsberg            | Germany | 51.0631 |  6.0964 | Pharmacy | Institution | Amcibax Amcikeran      | Analgesics       |  -300 | 319 |  -95700 | December | 2020 | Alan Ray          | James Goodwill  | Alfa    |\n",
       "| Koss   | Hirthe, Williamson and Macejkovic Pharmacy         | Landshut             | Germany | 48.5397 | 12.1508 | Hospital | Government  | Androporin             | Antiseptics      |   -27 | 659 |  -17793 | December | 2020 | Sheila Stones     | Britanny Bold   | Delta   |\n",
       "| Koss   | White Inc Pharm                                    | Ehingen an der Donau | Germany | 48.2833 |  9.7236 | Pharmacy | Retail      | Travoloride            | Antiseptics      |   -23 | 785 |  -18055 | December | 2020 | Erica Jones       | James Goodwill  | Alfa    |\n",
       "| Koss   | Haag, Bradtke and Terry Pharm                      | Hanau                | Germany | 50.1328 |  8.9169 | Hospital | Government  | Lacoplex Hyaluvance    | Mood Stabilizers |   -20 | 334 |   -6680 | December | 2020 | Anne Wu           | Britanny Bold   | Delta   |\n",
       "| Koss   | Schaefer-Rolfson Pharma Plc                        | Freiberg             | Germany | 50.9119 | 13.3428 | Pharmacy | Retail      | Testant                | Mood Stabilizers |   -50 | 488 |  -24400 | December | 2020 | Daniel Gates      | Alisha Cordwell | Charlie |\n",
       "| Koss   | Senger-Kirlin Pharma Plc                           | Soest                | Germany | 51.5711 |  8.1092 | Hospital | Government  | Argalazine Abostryl    | Antipiretics     |   -50 | 628 |  -31400 | December | 2020 | Mary Gerrard      | Britanny Bold   | Delta   |\n",
       "| Koss   | Sanford, Franecki and Greenholt Pharmaceutical Ltd | Rheine               | Germany | 52.2833 |  7.4333 | Pharmacy | Institution | Sanctumine             | Antimalarial     |   -90 | 149 |  -13410 | December | 2020 | Mary Gerrard      | Britanny Bold   | Delta   |\n",
       "| Koss   | Steuber Ltd Pharm                                  | Gera                 | Germany | 50.8782 | 12.0824 | Hospital | Government  | Kinenadryl             | Antipiretics     |   -30 | 782 |  -23460 | December | 2020 | Daniel Gates      | Alisha Cordwell | Charlie |\n",
       "| Koss   | Abernathy Group Pharmacy                           | Melle                | Germany | 52.2031 |  8.3361 | Pharmacy | Retail      | Flutacerol             | Analgesics       |  -300 | 745 | -223500 | December | 2020 | Abigail Thompson  | Tracy Banks     | Bravo   |\n",
       "| Koss   | Jakubowski Inc Pharma Plc                          | Tönisvorst           | Germany | 51.3208 |  6.4931 | Hospital | Government  | Adriacaine             | Mood Stabilizers |   -81 | 361 |  -29241 | December | 2020 | Jessica Smith     | Britanny Bold   | Delta   |\n",
       "| Koss   | Heidenreich Group Pharm                            | Mannheim             | Germany | 49.4878 |  8.4661 | Hospital | Government  | Agalsiline             | Mood Stabilizers |  -270 |  64 |  -17280 | December | 2020 | Daniel Gates      | Alisha Cordwell | Charlie |\n",
       "| Koss   | Reilly Ltd Pharmacy                                | Sindelfingen         | Germany | 48.7133 |  9.0028 | Hospital | Private     | Proderal               | Antiseptics      |  -170 |  34 |   -5780 | December | 2020 | Morris Garcia     | Tracy Banks     | Bravo   |\n",
       "| Koss   | Cummings LLC                                       | Schwäbisch Gmünd     | Germany | 48.8000 |  9.8000 | Hospital | Government  | Zonitonin              | Antiseptics      |  -180 | 518 |  -93240 | December | 2020 | Stella Given      | Alisha Cordwell | Charlie |\n",
       "| Koss   | Koelpin, Luettgen and Abernathy Pharmaceutical Ltd | Mörfelden-Walldorf   | Germany | 49.9896 |  8.5661 | Hospital | Private     | Propratecan            | Antimalarial     |   -10 | 682 |   -6820 | December | 2020 | Jessica Smith     | Britanny Bold   | Delta   |\n",
       "| Koss   | Rutherford and Sons Pharmaceutical Ltd             | Dresden              | Germany | 51.0493 | 13.7384 | Hospital | Private     | Factolamide            | Antiseptics      |  -100 | 345 |  -34500 | December | 2020 | Thompson Crawford | James Goodwill  | Alfa    |\n",
       "| Koss   | Reinger, Kihn and Goyette Pharmaceutical Limited   | Overath              | Germany | 50.9500 |  7.3000 | Hospital | Government  | Zyvance                | Analgesics       |  -154 | 323 |  -49742 | December | 2020 | Abigail Thompson  | Tracy Banks     | Bravo   |\n",
       "| Koss   | Fahey-Prosacco Pharmacy                            | Jena                 | Germany | 50.9272 | 11.5864 | Hospital | Government  | Sevotrana Tiafoxin     | Analgesics       |   -24 | 460 |  -11040 | December | 2020 | Abigail Thompson  | Tracy Banks     | Bravo   |\n",
       "| Koss   | Leffler-Russel Pharmaceutical Ltd                  | Lingen               | Germany | 52.5233 |  7.3172 | Pharmacy | Retail      | Diaxolol               | Antiseptics      |    -1 | 765 |    -765 | December | 2020 | Alan Ray          | James Goodwill  | Alfa    |\n",
       "| Koss   | Zemlak-Witting Pharmaceutical Limited              | Plettenberg          | Germany | 51.2128 |  7.8715 | Hospital | Government  | Feruprazole            | Mood Stabilizers |  -144 | 115 |  -16560 | December | 2020 | Jimmy Grey        | Alisha Cordwell | Charlie |\n",
       "| Koss   | Rogahn-Klein Pharm                                 | Donauwörth           | Germany | 48.7184 | 10.7770 | Hospital | Private     | Effidomide Evofribrate | Antiseptics      |   -15 | 612 |   -9180 | December | 2020 | Erica Jones       | James Goodwill  | Alfa    |\n",
       "| Koss   | Fritsch-Hauck Pharm                                | Fürstenwalde         | Germany | 52.3667 | 14.0667 | Hospital | Government  | Topitaine              | Mood Stabilizers |   -30 | 517 |  -15510 | December | 2020 | Morris Garcia     | Tracy Banks     | Bravo   |\n",
       "| Koss   | Wehner-Stehr                                       | Steinfurt            | Germany | 52.1504 |  7.3366 | Pharmacy | Institution | Pazofenac              | Mood Stabilizers |   -50 | 123 |   -6150 | December | 2020 | Daniel Gates      | Alisha Cordwell | Charlie |\n",
       "| Koss   | Murray PLC Pharma Plc                              | Reinbek              | Germany | 53.5089 | 10.2483 | Hospital | Private     | Symbiroban             | Antibiotics      |  -237 | 122 |  -28914 | December | 2020 | Morris Garcia     | Tracy Banks     | Bravo   |\n",
       "| Koss   | Kreiger Inc                                        | Burgdorf             | Germany | 52.4500 | 10.0083 | Pharmacy | Retail      | Docstryl Rivacin       | Antiseptics      |  -660 | 789 | -520740 | December | 2020 | Daniel Gates      | Alisha Cordwell | Charlie |\n",
       "| Koss   | Gerhold, Mills and Effertz Pharma Plc              | Stadthagen           | Germany | 52.3247 |  9.2069 | Hospital | Private     | Pulmofine              | Antibiotics      |   -30 | 688 |  -20640 | December | 2020 | Stella Given      | Alisha Cordwell | Charlie |\n",
       "| Koss   | Pfeffer-Kirlin Pharmacy                            | Ahlen                | Germany | 51.7633 |  7.8911 | Pharmacy | Institution | Abatatriptan           | Antibiotics      | -1100 | 742 | -816200 | December | 2020 | Stella Given      | Alisha Cordwell | Charlie |\n",
       "| Koss   | Corkery-Kovacek Pharm                              | Kehl                 | Germany | 48.5711 |  7.8089 | Hospital | Private     | Agalsiline             | Mood Stabilizers | -1200 |  64 |  -76800 | December | 2020 | Morris Garcia     | Tracy Banks     | Bravo   |\n",
       "\n"
      ],
      "text/plain": [
       "     Distributor    Customer Name                                       \n",
       "1    Rohan          Zieme, Doyle and Kunze                              \n",
       "2    Rohan          Nader-Gaylord Pharmaceutical Limited                \n",
       "3    Rohan          Buckridge, Dach and Carroll Pharmaceutical Limited  \n",
       "4    Prohaska-Kuhic Wiegand, Jast and Yost Pharma Plc                   \n",
       "5    Prohaska-Kuhic Pfeffer-Hodkiewicz Pharmaceutical Ltd               \n",
       "6    Prohaska-Kuhic Herman, Rice and Rippin                             \n",
       "7    Prohaska-Kuhic Will and Sons Pharma Plc                            \n",
       "8    Prohaska-Kuhic Hansen, Fadel and Schroeder Pharm                   \n",
       "9    Prohaska-Kuhic Purdy Ltd Pharmaceutical Limited                    \n",
       "10   Prohaska-Kuhic Kling Inc Pharmaceutical Ltd                        \n",
       "11   Rohan          Zemlak Group Pharmaceutical Limited                 \n",
       "12   Prohaska-Kuhic Heller-Abernathy                                    \n",
       "13   Prohaska-Kuhic Schulist-Zulauf Pharm                               \n",
       "14   Prohaska-Kuhic Carter-Conn Pharma Plc                              \n",
       "15   Prohaska-Kuhic Monahan Ltd                                         \n",
       "16   Prohaska-Kuhic Koch-Osinski Pharm                                  \n",
       "17   Prohaska-Kuhic Breitenberg-Kuhn Pharmacy                           \n",
       "18   Prohaska-Kuhic Trantow LLC Pharma Plc                              \n",
       "19   Cassin         Towne, Cummerata and Blanda Pharm                   \n",
       "20   Prohaska-Kuhic Lindgren-Simonis Pharm                              \n",
       "21   Koss           Walter Ltd Pharmaceutical Limited                   \n",
       "22   Koss           Reilly Ltd Pharma Plc                               \n",
       "23   Koss           Schinner, Gaylord and Treutel Pharmaceutical Limited\n",
       "24   Koss           Gerhold, Mills and Effertz Pharma Plc               \n",
       "25   Koss           Vandervort LLC Pharm                                \n",
       "26   Koss           Bogan, Jacobs and Kris Pharmaceutical Ltd           \n",
       "27   Koss           Denesik, Walter and Beatty Pharmacy                 \n",
       "28   Koss           Kreiger Inc                                         \n",
       "29   Koss           Crona Group                                         \n",
       "30   Koss           Crist LLC                                           \n",
       "⋮    ⋮              ⋮                                                   \n",
       "2604 Erdman         Beahan, Littel and Ondricka Pharma Plc              \n",
       "2605 Koss           Kunze PLC Pharma Plc                                \n",
       "2606 Koss           Fadel-West Pharmaceutical Ltd                       \n",
       "2607 Koss           Miller-Satterfield Pharm                            \n",
       "2608 Koss           Hirthe, Williamson and Macejkovic Pharmacy          \n",
       "2609 Koss           White Inc Pharm                                     \n",
       "2610 Koss           Haag, Bradtke and Terry Pharm                       \n",
       "2611 Koss           Schaefer-Rolfson Pharma Plc                         \n",
       "2612 Koss           Senger-Kirlin Pharma Plc                            \n",
       "2613 Koss           Sanford, Franecki and Greenholt Pharmaceutical Ltd  \n",
       "2614 Koss           Steuber Ltd Pharm                                   \n",
       "2615 Koss           Abernathy Group Pharmacy                            \n",
       "2616 Koss           Jakubowski Inc Pharma Plc                           \n",
       "2617 Koss           Heidenreich Group Pharm                             \n",
       "2618 Koss           Reilly Ltd Pharmacy                                 \n",
       "2619 Koss           Cummings LLC                                        \n",
       "2620 Koss           Koelpin, Luettgen and Abernathy Pharmaceutical Ltd  \n",
       "2621 Koss           Rutherford and Sons Pharmaceutical Ltd              \n",
       "2622 Koss           Reinger, Kihn and Goyette Pharmaceutical Limited    \n",
       "2623 Koss           Fahey-Prosacco Pharmacy                             \n",
       "2624 Koss           Leffler-Russel Pharmaceutical Ltd                   \n",
       "2625 Koss           Zemlak-Witting Pharmaceutical Limited               \n",
       "2626 Koss           Rogahn-Klein Pharm                                  \n",
       "2627 Koss           Fritsch-Hauck Pharm                                 \n",
       "2628 Koss           Wehner-Stehr                                        \n",
       "2629 Koss           Murray PLC Pharma Plc                               \n",
       "2630 Koss           Kreiger Inc                                         \n",
       "2631 Koss           Gerhold, Mills and Effertz Pharma Plc               \n",
       "2632 Koss           Pfeffer-Kirlin Pharmacy                             \n",
       "2633 Koss           Corkery-Kovacek Pharm                               \n",
       "     City                    Country Latitude Longitude Channel  Sub-channel\n",
       "1    Lublin                  Poland  51.2333  22.5667   Hospital Private    \n",
       "2    Sobótka                 Poland  50.8986  16.7444   Hospital Private    \n",
       "3    Luboń                   Poland  52.3333  16.8833   Hospital Private    \n",
       "4    Płock                   Poland  52.5500  19.7000   Hospital Private    \n",
       "5    Szczytno                Poland  53.5628  20.9853   Hospital Government \n",
       "6    Ziębice                 Poland  50.6000  17.0444   Hospital Government \n",
       "7    Gniew                   Poland  53.8333  18.8333   Pharmacy Retail     \n",
       "8    Gniezno                 Poland  52.5333  17.6000   Pharmacy Retail     \n",
       "9    Głuchołazy              Poland  50.3131  17.3742   Hospital Government \n",
       "10   Ostrowiec Świętokrzyski Poland  50.9333  21.4000   Pharmacy Institution\n",
       "11   Koszalin                Poland  54.1903  16.1817   Hospital Private    \n",
       "12   Brzeg Dolny             Poland  51.2730  16.7081   Hospital Private    \n",
       "13   Tychy                   Poland  50.1667  19.0000   Hospital Private    \n",
       "14   Brwinów                 Poland  52.1417  20.7167   Hospital Private    \n",
       "15   Oświęcim                Poland  50.0333  19.2333   Hospital Government \n",
       "16   Sandomierz              Poland  50.6833  21.7500   Hospital Government \n",
       "17   Radom                   Poland  51.4036  21.1567   Hospital Private    \n",
       "18   Braniewo                Poland  54.3833  19.8333   Pharmacy Retail     \n",
       "19   Kalisz                  Poland  51.7570  18.0830   Hospital Private    \n",
       "20   Biskupiec               Poland  53.8647  20.9569   Pharmacy Retail     \n",
       "21   Neubrandenburg          Germany 53.5569  13.2608   Pharmacy Institution\n",
       "22   Königsbrunn             Germany 48.2689  10.8908   Hospital Private    \n",
       "23   Ahrensburg              Germany 53.6747  10.2411   Hospital Private    \n",
       "24   Stadthagen              Germany 52.3247   9.2069   Hospital Private    \n",
       "25   Stade                   Germany 53.6008   9.4764   Pharmacy Retail     \n",
       "26   Heppenheim              Germany 49.6415   8.6450   Hospital Government \n",
       "27   Ludwigsfelde            Germany 52.2997  13.2667   Hospital Private    \n",
       "28   Burgdorf                Germany 52.4500  10.0083   Pharmacy Retail     \n",
       "29   Viersen                 Germany 51.2556   6.3917   Hospital Government \n",
       "30   Mühlacker               Germany 48.9500   8.8392   Pharmacy Institution\n",
       "⋮    ⋮                       ⋮       ⋮        ⋮         ⋮        ⋮          \n",
       "2604 Salzwedel               Germany 52.8500  11.1500   Hospital Government \n",
       "2605 Eisenach                Germany 50.9747  10.3244   Hospital Government \n",
       "2606 Filderstadt             Germany 48.6667   9.2167   Pharmacy Retail     \n",
       "2607 Heinsberg               Germany 51.0631   6.0964   Pharmacy Institution\n",
       "2608 Landshut                Germany 48.5397  12.1508   Hospital Government \n",
       "2609 Ehingen an der Donau    Germany 48.2833   9.7236   Pharmacy Retail     \n",
       "2610 Hanau                   Germany 50.1328   8.9169   Hospital Government \n",
       "2611 Freiberg                Germany 50.9119  13.3428   Pharmacy Retail     \n",
       "2612 Soest                   Germany 51.5711   8.1092   Hospital Government \n",
       "2613 Rheine                  Germany 52.2833   7.4333   Pharmacy Institution\n",
       "2614 Gera                    Germany 50.8782  12.0824   Hospital Government \n",
       "2615 Melle                   Germany 52.2031   8.3361   Pharmacy Retail     \n",
       "2616 Tönisvorst              Germany 51.3208   6.4931   Hospital Government \n",
       "2617 Mannheim                Germany 49.4878   8.4661   Hospital Government \n",
       "2618 Sindelfingen            Germany 48.7133   9.0028   Hospital Private    \n",
       "2619 Schwäbisch Gmünd        Germany 48.8000   9.8000   Hospital Government \n",
       "2620 Mörfelden-Walldorf      Germany 49.9896   8.5661   Hospital Private    \n",
       "2621 Dresden                 Germany 51.0493  13.7384   Hospital Private    \n",
       "2622 Overath                 Germany 50.9500   7.3000   Hospital Government \n",
       "2623 Jena                    Germany 50.9272  11.5864   Hospital Government \n",
       "2624 Lingen                  Germany 52.5233   7.3172   Pharmacy Retail     \n",
       "2625 Plettenberg             Germany 51.2128   7.8715   Hospital Government \n",
       "2626 Donauwörth              Germany 48.7184  10.7770   Hospital Private    \n",
       "2627 Fürstenwalde            Germany 52.3667  14.0667   Hospital Government \n",
       "2628 Steinfurt               Germany 52.1504   7.3366   Pharmacy Institution\n",
       "2629 Reinbek                 Germany 53.5089  10.2483   Hospital Private    \n",
       "2630 Burgdorf                Germany 52.4500  10.0083   Pharmacy Retail     \n",
       "2631 Stadthagen              Germany 52.3247   9.2069   Hospital Private    \n",
       "2632 Ahlen                   Germany 51.7633   7.8911   Pharmacy Institution\n",
       "2633 Kehl                    Germany 48.5711   7.8089   Hospital Private    \n",
       "     Product Name             Product Class    Quantity Price Sales   Month   \n",
       "1    Exotropin Empizine       Mood Stabilizers  -19     785   -14915  February\n",
       "2    Epzipitant               Analgesics        -12     778    -9336  February\n",
       "3    Belavarix Benzabicin     Antibiotics        -1     131     -131  November\n",
       "4    Afinitasol               Antipiretics       -5     286    -1430  February\n",
       "5    Sucprine Specbalamin     Antiseptics       -50     182    -9100  March   \n",
       "6    Amamadin                 Antimalarial     -100     713   -71300  March   \n",
       "7    Brimorix Amonine         Antibiotics        -2     398     -796  May     \n",
       "8    Sevotrana Tiafoxin       Analgesics        -60     460   -27600  June    \n",
       "9    Afluferon Entrarenone    Antimalarial      -10     104    -1040  July    \n",
       "10   Androporin               Antiseptics       -10     659    -6590  July    \n",
       "11   Interzide                Antimalarial       -2     420     -840  August  \n",
       "12   Lovapur                  Mood Stabilizers  -10     551    -5510  October \n",
       "13   Malaxolol Aeroprosyn     Antiseptics       -47     502   -23594  November\n",
       "14   Fosinofen                Antipiretics       -1     385     -385  December\n",
       "15   Dexacilin Triline        Analgesics         -1     129     -129  December\n",
       "16   Ganineva Agenium         Antiseptics        -2     390     -780  April   \n",
       "17   Sevoderm                 Antipiretics       -4     663    -2652  May     \n",
       "18   Zonixamine Immulinum     Analgesics         -2     298     -596  October \n",
       "19   Nisorase                 Antibiotics       -10     393    -3930  October \n",
       "20   Amphesirox               Antiseptics        -3      25      -75  November\n",
       "21   Apronazol                Antibiotics        -3     472    -1416  January \n",
       "22   Aquamycin Lacoran        Analgesics        -40     345   -13800  January \n",
       "23   Ketamara Evogel          Antipiretics       -1     704     -704  January \n",
       "24   Quixitriptan Alanesin    Antiseptics        -4      79     -316  January \n",
       "25   Ceftatana Serolamide     Antipiretics       -8     595    -4760  January \n",
       "26   Halcifergen Nevazone     Antimalarial       -1     710     -710  January \n",
       "27   Ibruferon                Antiseptics        -5      82     -410  January \n",
       "28   Propralamide Dexlanzolam Mood Stabilizers  -75     391   -29325  January \n",
       "29   Fentatrol Rapatelase     Antibiotics       -40     458   -18320  January \n",
       "30   Tracdomide               Antipiretics       -1     548     -548  January \n",
       "⋮    ⋮                        ⋮                ⋮        ⋮     ⋮       ⋮       \n",
       "2604 Kiovax Tercorolac        Analgesics        -140    722   -101080 December\n",
       "2605 Alpradipine              Analgesics         -10    445     -4450 December\n",
       "2606 Quixitriptan Alanesin    Antiseptics        -72     79     -5688 December\n",
       "2607 Amcibax Amcikeran        Analgesics        -300    319    -95700 December\n",
       "2608 Androporin               Antiseptics        -27    659    -17793 December\n",
       "2609 Travoloride              Antiseptics        -23    785    -18055 December\n",
       "2610 Lacoplex Hyaluvance      Mood Stabilizers   -20    334     -6680 December\n",
       "2611 Testant                  Mood Stabilizers   -50    488    -24400 December\n",
       "2612 Argalazine Abostryl      Antipiretics       -50    628    -31400 December\n",
       "2613 Sanctumine               Antimalarial       -90    149    -13410 December\n",
       "2614 Kinenadryl               Antipiretics       -30    782    -23460 December\n",
       "2615 Flutacerol               Analgesics        -300    745   -223500 December\n",
       "2616 Adriacaine               Mood Stabilizers   -81    361    -29241 December\n",
       "2617 Agalsiline               Mood Stabilizers  -270     64    -17280 December\n",
       "2618 Proderal                 Antiseptics       -170     34     -5780 December\n",
       "2619 Zonitonin                Antiseptics       -180    518    -93240 December\n",
       "2620 Propratecan              Antimalarial       -10    682     -6820 December\n",
       "2621 Factolamide              Antiseptics       -100    345    -34500 December\n",
       "2622 Zyvance                  Analgesics        -154    323    -49742 December\n",
       "2623 Sevotrana Tiafoxin       Analgesics         -24    460    -11040 December\n",
       "2624 Diaxolol                 Antiseptics         -1    765      -765 December\n",
       "2625 Feruprazole              Mood Stabilizers  -144    115    -16560 December\n",
       "2626 Effidomide Evofribrate   Antiseptics        -15    612     -9180 December\n",
       "2627 Topitaine                Mood Stabilizers   -30    517    -15510 December\n",
       "2628 Pazofenac                Mood Stabilizers   -50    123     -6150 December\n",
       "2629 Symbiroban               Antibiotics       -237    122    -28914 December\n",
       "2630 Docstryl Rivacin         Antiseptics       -660    789   -520740 December\n",
       "2631 Pulmofine                Antibiotics        -30    688    -20640 December\n",
       "2632 Abatatriptan             Antibiotics      -1100    742   -816200 December\n",
       "2633 Agalsiline               Mood Stabilizers -1200     64    -76800 December\n",
       "     Year Name of Sales Rep Manager         Sales Team\n",
       "1    2018 Anne Wu           Britanny Bold   Delta     \n",
       "2    2018 Thompson Crawford James Goodwill  Alfa      \n",
       "3    2018 Morris Garcia     Tracy Banks     Bravo     \n",
       "4    2018 Jessica Smith     Britanny Bold   Delta     \n",
       "5    2018 Jimmy Grey        Alisha Cordwell Charlie   \n",
       "6    2018 Jessica Smith     Britanny Bold   Delta     \n",
       "7    2018 Mary Gerrard      Britanny Bold   Delta     \n",
       "8    2018 Anne Wu           Britanny Bold   Delta     \n",
       "9    2018 Jimmy Grey        Alisha Cordwell Charlie   \n",
       "10   2018 Mary Gerrard      Britanny Bold   Delta     \n",
       "11   2018 Jimmy Grey        Alisha Cordwell Charlie   \n",
       "12   2018 Jimmy Grey        Alisha Cordwell Charlie   \n",
       "13   2018 Sheila Stones     Britanny Bold   Delta     \n",
       "14   2018 Jimmy Grey        Alisha Cordwell Charlie   \n",
       "15   2018 Morris Garcia     Tracy Banks     Bravo     \n",
       "16   2018 Anne Wu           Britanny Bold   Delta     \n",
       "17   2018 Alan Ray          James Goodwill  Alfa      \n",
       "18   2018 Mary Gerrard      Britanny Bold   Delta     \n",
       "19   2018 Sheila Stones     Britanny Bold   Delta     \n",
       "20   2018 Erica Jones       James Goodwill  Alfa      \n",
       "21   2017 Mary Gerrard      Britanny Bold   Delta     \n",
       "22   2017 Sheila Stones     Britanny Bold   Delta     \n",
       "23   2017 Abigail Thompson  Tracy Banks     Bravo     \n",
       "24   2017 Jimmy Grey        Alisha Cordwell Charlie   \n",
       "25   2017 Anne Wu           Britanny Bold   Delta     \n",
       "26   2017 Morris Garcia     Tracy Banks     Bravo     \n",
       "27   2017 Sheila Stones     Britanny Bold   Delta     \n",
       "28   2017 Steve Pepple      Tracy Banks     Bravo     \n",
       "29   2017 Steve Pepple      Tracy Banks     Bravo     \n",
       "30   2017 Jessica Smith     Britanny Bold   Delta     \n",
       "⋮    ⋮    ⋮                 ⋮               ⋮         \n",
       "2604 2020 Steve Pepple      Tracy Banks     Bravo     \n",
       "2605 2020 Sheila Stones     Britanny Bold   Delta     \n",
       "2606 2020 Abigail Thompson  Tracy Banks     Bravo     \n",
       "2607 2020 Alan Ray          James Goodwill  Alfa      \n",
       "2608 2020 Sheila Stones     Britanny Bold   Delta     \n",
       "2609 2020 Erica Jones       James Goodwill  Alfa      \n",
       "2610 2020 Anne Wu           Britanny Bold   Delta     \n",
       "2611 2020 Daniel Gates      Alisha Cordwell Charlie   \n",
       "2612 2020 Mary Gerrard      Britanny Bold   Delta     \n",
       "2613 2020 Mary Gerrard      Britanny Bold   Delta     \n",
       "2614 2020 Daniel Gates      Alisha Cordwell Charlie   \n",
       "2615 2020 Abigail Thompson  Tracy Banks     Bravo     \n",
       "2616 2020 Jessica Smith     Britanny Bold   Delta     \n",
       "2617 2020 Daniel Gates      Alisha Cordwell Charlie   \n",
       "2618 2020 Morris Garcia     Tracy Banks     Bravo     \n",
       "2619 2020 Stella Given      Alisha Cordwell Charlie   \n",
       "2620 2020 Jessica Smith     Britanny Bold   Delta     \n",
       "2621 2020 Thompson Crawford James Goodwill  Alfa      \n",
       "2622 2020 Abigail Thompson  Tracy Banks     Bravo     \n",
       "2623 2020 Abigail Thompson  Tracy Banks     Bravo     \n",
       "2624 2020 Alan Ray          James Goodwill  Alfa      \n",
       "2625 2020 Jimmy Grey        Alisha Cordwell Charlie   \n",
       "2626 2020 Erica Jones       James Goodwill  Alfa      \n",
       "2627 2020 Morris Garcia     Tracy Banks     Bravo     \n",
       "2628 2020 Daniel Gates      Alisha Cordwell Charlie   \n",
       "2629 2020 Morris Garcia     Tracy Banks     Bravo     \n",
       "2630 2020 Daniel Gates      Alisha Cordwell Charlie   \n",
       "2631 2020 Stella Given      Alisha Cordwell Charlie   \n",
       "2632 2020 Stella Given      Alisha Cordwell Charlie   \n",
       "2633 2020 Morris Garcia     Tracy Banks     Bravo     "
      ]
     },
     "metadata": {},
     "output_type": "display_data"
    }
   ],
   "source": [
    "df %>%\n",
    "  filter(Quantity < 0)"
   ]
  },
  {
   "cell_type": "markdown",
   "id": "1eaedfdd",
   "metadata": {
    "papermill": {
     "duration": 0.009115,
     "end_time": "2025-07-28T23:46:04.890918",
     "exception": false,
     "start_time": "2025-07-28T23:46:04.881803",
     "status": "completed"
    },
    "tags": []
   },
   "source": [
    "### Count managers involved with negative quantity"
   ]
  },
  {
   "cell_type": "code",
   "execution_count": 11,
   "id": "ca5ec203",
   "metadata": {
    "execution": {
     "iopub.execute_input": "2025-07-28T23:46:04.910502Z",
     "iopub.status.busy": "2025-07-28T23:46:04.908953Z",
     "iopub.status.idle": "2025-07-28T23:46:04.953959Z",
     "shell.execute_reply": "2025-07-28T23:46:04.952230Z"
    },
    "papermill": {
     "duration": 0.057313,
     "end_time": "2025-07-28T23:46:04.956255",
     "exception": false,
     "start_time": "2025-07-28T23:46:04.898942",
     "status": "completed"
    },
    "tags": []
   },
   "outputs": [
    {
     "data": {
      "text/html": [
       "<table class=\"dataframe\">\n",
       "<caption>A spec_tbl_df: 4 × 2</caption>\n",
       "<thead>\n",
       "\t<tr><th scope=col>Manager</th><th scope=col>n</th></tr>\n",
       "\t<tr><th scope=col>&lt;chr&gt;</th><th scope=col>&lt;int&gt;</th></tr>\n",
       "</thead>\n",
       "<tbody>\n",
       "\t<tr><td>Britanny Bold  </td><td>792</td></tr>\n",
       "\t<tr><td>James Goodwill </td><td>627</td></tr>\n",
       "\t<tr><td>Tracy Banks    </td><td>623</td></tr>\n",
       "\t<tr><td>Alisha Cordwell</td><td>591</td></tr>\n",
       "</tbody>\n",
       "</table>\n"
      ],
      "text/latex": [
       "A spec\\_tbl\\_df: 4 × 2\n",
       "\\begin{tabular}{ll}\n",
       " Manager & n\\\\\n",
       " <chr> & <int>\\\\\n",
       "\\hline\n",
       "\t Britanny Bold   & 792\\\\\n",
       "\t James Goodwill  & 627\\\\\n",
       "\t Tracy Banks     & 623\\\\\n",
       "\t Alisha Cordwell & 591\\\\\n",
       "\\end{tabular}\n"
      ],
      "text/markdown": [
       "\n",
       "A spec_tbl_df: 4 × 2\n",
       "\n",
       "| Manager &lt;chr&gt; | n &lt;int&gt; |\n",
       "|---|---|\n",
       "| Britanny Bold   | 792 |\n",
       "| James Goodwill  | 627 |\n",
       "| Tracy Banks     | 623 |\n",
       "| Alisha Cordwell | 591 |\n",
       "\n"
      ],
      "text/plain": [
       "  Manager         n  \n",
       "1 Britanny Bold   792\n",
       "2 James Goodwill  627\n",
       "3 Tracy Banks     623\n",
       "4 Alisha Cordwell 591"
      ]
     },
     "metadata": {},
     "output_type": "display_data"
    }
   ],
   "source": [
    "df %>%\n",
    "  filter(Quantity < 0) %>%\n",
    "  count(Manager, sort = TRUE)"
   ]
  },
  {
   "cell_type": "markdown",
   "id": "8946655a",
   "metadata": {
    "papermill": {
     "duration": 0.008169,
     "end_time": "2025-07-28T23:46:04.972491",
     "exception": false,
     "start_time": "2025-07-28T23:46:04.964322",
     "status": "completed"
    },
    "tags": []
   },
   "source": [
    "### Count of distinct values"
   ]
  },
  {
   "cell_type": "code",
   "execution_count": 12,
   "id": "947d036a",
   "metadata": {
    "execution": {
     "iopub.execute_input": "2025-07-28T23:46:04.991877Z",
     "iopub.status.busy": "2025-07-28T23:46:04.990389Z",
     "iopub.status.idle": "2025-07-28T23:46:05.028258Z",
     "shell.execute_reply": "2025-07-28T23:46:05.026566Z"
    },
    "papermill": {
     "duration": 0.050406,
     "end_time": "2025-07-28T23:46:05.030689",
     "exception": false,
     "start_time": "2025-07-28T23:46:04.980283",
     "status": "completed"
    },
    "tags": []
   },
   "outputs": [
    {
     "data": {
      "text/html": [
       "<table class=\"dataframe\">\n",
       "<caption>A tibble: 1 × 3</caption>\n",
       "<thead>\n",
       "\t<tr><th scope=col>unique_products</th><th scope=col>unique_customers</th><th scope=col>unique_sales_reps</th></tr>\n",
       "\t<tr><th scope=col>&lt;int&gt;</th><th scope=col>&lt;int&gt;</th><th scope=col>&lt;int&gt;</th></tr>\n",
       "</thead>\n",
       "<tbody>\n",
       "\t<tr><td>240</td><td>751</td><td>13</td></tr>\n",
       "</tbody>\n",
       "</table>\n"
      ],
      "text/latex": [
       "A tibble: 1 × 3\n",
       "\\begin{tabular}{lll}\n",
       " unique\\_products & unique\\_customers & unique\\_sales\\_reps\\\\\n",
       " <int> & <int> & <int>\\\\\n",
       "\\hline\n",
       "\t 240 & 751 & 13\\\\\n",
       "\\end{tabular}\n"
      ],
      "text/markdown": [
       "\n",
       "A tibble: 1 × 3\n",
       "\n",
       "| unique_products &lt;int&gt; | unique_customers &lt;int&gt; | unique_sales_reps &lt;int&gt; |\n",
       "|---|---|---|\n",
       "| 240 | 751 | 13 |\n",
       "\n"
      ],
      "text/plain": [
       "  unique_products unique_customers unique_sales_reps\n",
       "1 240             751              13               "
      ]
     },
     "metadata": {},
     "output_type": "display_data"
    }
   ],
   "source": [
    "df_clean %>%\n",
    "  summarise(\n",
    "    unique_products = n_distinct(`Product Name`),\n",
    "    unique_customers = n_distinct(`Customer Name`),\n",
    "    unique_sales_reps = n_distinct(`Name of Sales Rep`)\n",
    "  )"
   ]
  },
  {
   "cell_type": "markdown",
   "id": "8bcdf47c",
   "metadata": {
    "papermill": {
     "duration": 0.008373,
     "end_time": "2025-07-28T23:46:05.047554",
     "exception": false,
     "start_time": "2025-07-28T23:46:05.039181",
     "status": "completed"
    },
    "tags": []
   },
   "source": [
    "### Save cleaned data to CSV"
   ]
  },
  {
   "cell_type": "code",
   "execution_count": 13,
   "id": "d79fe16f",
   "metadata": {
    "execution": {
     "iopub.execute_input": "2025-07-28T23:46:05.067652Z",
     "iopub.status.busy": "2025-07-28T23:46:05.065979Z",
     "iopub.status.idle": "2025-07-28T23:46:05.627820Z",
     "shell.execute_reply": "2025-07-28T23:46:05.625972Z"
    },
    "papermill": {
     "duration": 0.574791,
     "end_time": "2025-07-28T23:46:05.630405",
     "exception": false,
     "start_time": "2025-07-28T23:46:05.055614",
     "status": "completed"
    },
    "tags": []
   },
   "outputs": [],
   "source": [
    "write_csv(df_clean, \"pharma_cleaned.csv\")"
   ]
  },
  {
   "cell_type": "markdown",
   "id": "054cb6c1",
   "metadata": {
    "papermill": {
     "duration": 0.008248,
     "end_time": "2025-07-28T23:46:05.647056",
     "exception": false,
     "start_time": "2025-07-28T23:46:05.638808",
     "status": "completed"
    },
    "tags": []
   },
   "source": [
    "## Exploratory Analysis "
   ]
  },
  {
   "cell_type": "markdown",
   "id": "b49d71d0",
   "metadata": {
    "papermill": {
     "duration": 0.008278,
     "end_time": "2025-07-28T23:46:05.664052",
     "exception": false,
     "start_time": "2025-07-28T23:46:05.655774",
     "status": "completed"
    },
    "tags": []
   },
   "source": [
    "### Total Sales by Year"
   ]
  },
  {
   "cell_type": "code",
   "execution_count": 14,
   "id": "d8a65b01",
   "metadata": {
    "execution": {
     "iopub.execute_input": "2025-07-28T23:46:05.684149Z",
     "iopub.status.busy": "2025-07-28T23:46:05.682700Z",
     "iopub.status.idle": "2025-07-28T23:46:05.873507Z",
     "shell.execute_reply": "2025-07-28T23:46:05.871767Z"
    },
    "papermill": {
     "duration": 0.203324,
     "end_time": "2025-07-28T23:46:05.875627",
     "exception": false,
     "start_time": "2025-07-28T23:46:05.672303",
     "status": "completed"
    },
    "tags": []
   },
   "outputs": [
    {
     "data": {
      "text/html": [
       "<table class=\"dataframe\">\n",
       "<caption>A tibble: 4 × 2</caption>\n",
       "<thead>\n",
       "\t<tr><th scope=col>Year</th><th scope=col>Total_Sales</th></tr>\n",
       "\t<tr><th scope=col>&lt;dbl&gt;</th><th scope=col>&lt;dbl&gt;</th></tr>\n",
       "</thead>\n",
       "<tbody>\n",
       "\t<tr><td>2017</td><td>2717929871</td></tr>\n",
       "\t<tr><td>2018</td><td>3545599970</td></tr>\n",
       "\t<tr><td>2019</td><td>2963383252</td></tr>\n",
       "\t<tr><td>2020</td><td>2718554097</td></tr>\n",
       "</tbody>\n",
       "</table>\n"
      ],
      "text/latex": [
       "A tibble: 4 × 2\n",
       "\\begin{tabular}{ll}\n",
       " Year & Total\\_Sales\\\\\n",
       " <dbl> & <dbl>\\\\\n",
       "\\hline\n",
       "\t 2017 & 2717929871\\\\\n",
       "\t 2018 & 3545599970\\\\\n",
       "\t 2019 & 2963383252\\\\\n",
       "\t 2020 & 2718554097\\\\\n",
       "\\end{tabular}\n"
      ],
      "text/markdown": [
       "\n",
       "A tibble: 4 × 2\n",
       "\n",
       "| Year &lt;dbl&gt; | Total_Sales &lt;dbl&gt; |\n",
       "|---|---|\n",
       "| 2017 | 2717929871 |\n",
       "| 2018 | 3545599970 |\n",
       "| 2019 | 2963383252 |\n",
       "| 2020 | 2718554097 |\n",
       "\n"
      ],
      "text/plain": [
       "  Year Total_Sales\n",
       "1 2017 2717929871 \n",
       "2 2018 3545599970 \n",
       "3 2019 2963383252 \n",
       "4 2020 2718554097 "
      ]
     },
     "metadata": {},
     "output_type": "display_data"
    }
   ],
   "source": [
    "df_clean %>%\n",
    "  group_by(Year) %>%\n",
    "  summarise(Total_Sales = sum(Sales)) %>%\n",
    "  arrange(Year)"
   ]
  },
  {
   "cell_type": "markdown",
   "id": "2a411047",
   "metadata": {
    "papermill": {
     "duration": 0.016503,
     "end_time": "2025-07-28T23:46:05.904071",
     "exception": false,
     "start_time": "2025-07-28T23:46:05.887568",
     "status": "completed"
    },
    "tags": []
   },
   "source": [
    "### Top 5 Products by Sales"
   ]
  },
  {
   "cell_type": "code",
   "execution_count": 15,
   "id": "c564092f",
   "metadata": {
    "execution": {
     "iopub.execute_input": "2025-07-28T23:46:05.927761Z",
     "iopub.status.busy": "2025-07-28T23:46:05.926226Z",
     "iopub.status.idle": "2025-07-28T23:46:05.972836Z",
     "shell.execute_reply": "2025-07-28T23:46:05.970464Z"
    },
    "papermill": {
     "duration": 0.060792,
     "end_time": "2025-07-28T23:46:05.975649",
     "exception": false,
     "start_time": "2025-07-28T23:46:05.914857",
     "status": "completed"
    },
    "tags": []
   },
   "outputs": [
    {
     "data": {
      "text/html": [
       "<table class=\"dataframe\">\n",
       "<caption>A tibble: 5 × 2</caption>\n",
       "<thead>\n",
       "\t<tr><th scope=col>Product Name</th><th scope=col>Sales</th></tr>\n",
       "\t<tr><th scope=col>&lt;chr&gt;</th><th scope=col>&lt;dbl&gt;</th></tr>\n",
       "</thead>\n",
       "<tbody>\n",
       "\t<tr><td>Ionclotide      </td><td>170334033</td></tr>\n",
       "\t<tr><td>Tetratanyl      </td><td>126662592</td></tr>\n",
       "\t<tr><td>Sumanazole      </td><td>113907983</td></tr>\n",
       "\t<tr><td>Betanem         </td><td>107541499</td></tr>\n",
       "\t<tr><td>Docstryl Rivacin</td><td>105260490</td></tr>\n",
       "</tbody>\n",
       "</table>\n"
      ],
      "text/latex": [
       "A tibble: 5 × 2\n",
       "\\begin{tabular}{ll}\n",
       " Product Name & Sales\\\\\n",
       " <chr> & <dbl>\\\\\n",
       "\\hline\n",
       "\t Ionclotide       & 170334033\\\\\n",
       "\t Tetratanyl       & 126662592\\\\\n",
       "\t Sumanazole       & 113907983\\\\\n",
       "\t Betanem          & 107541499\\\\\n",
       "\t Docstryl Rivacin & 105260490\\\\\n",
       "\\end{tabular}\n"
      ],
      "text/markdown": [
       "\n",
       "A tibble: 5 × 2\n",
       "\n",
       "| Product Name &lt;chr&gt; | Sales &lt;dbl&gt; |\n",
       "|---|---|\n",
       "| Ionclotide       | 170334033 |\n",
       "| Tetratanyl       | 126662592 |\n",
       "| Sumanazole       | 113907983 |\n",
       "| Betanem          | 107541499 |\n",
       "| Docstryl Rivacin | 105260490 |\n",
       "\n"
      ],
      "text/plain": [
       "  Product Name     Sales    \n",
       "1 Ionclotide       170334033\n",
       "2 Tetratanyl       126662592\n",
       "3 Sumanazole       113907983\n",
       "4 Betanem          107541499\n",
       "5 Docstryl Rivacin 105260490"
      ]
     },
     "metadata": {},
     "output_type": "display_data"
    }
   ],
   "source": [
    "df_clean %>%\n",
    "  group_by(`Product Name`) %>%\n",
    "  summarise(Sales = sum(Sales)) %>%\n",
    "  arrange(desc(Sales)) %>%\n",
    "  head(5)"
   ]
  },
  {
   "cell_type": "markdown",
   "id": "6cffed30",
   "metadata": {
    "papermill": {
     "duration": 0.0088,
     "end_time": "2025-07-28T23:46:05.992950",
     "exception": false,
     "start_time": "2025-07-28T23:46:05.984150",
     "status": "completed"
    },
    "tags": []
   },
   "source": [
    "### Top Cities by Sales"
   ]
  },
  {
   "cell_type": "code",
   "execution_count": 16,
   "id": "77c6a16c",
   "metadata": {
    "execution": {
     "iopub.execute_input": "2025-07-28T23:46:06.014052Z",
     "iopub.status.busy": "2025-07-28T23:46:06.012639Z",
     "iopub.status.idle": "2025-07-28T23:46:06.054013Z",
     "shell.execute_reply": "2025-07-28T23:46:06.051114Z"
    },
    "papermill": {
     "duration": 0.05644,
     "end_time": "2025-07-28T23:46:06.058113",
     "exception": false,
     "start_time": "2025-07-28T23:46:06.001673",
     "status": "completed"
    },
    "tags": []
   },
   "outputs": [
    {
     "data": {
      "text/html": [
       "<table class=\"dataframe\">\n",
       "<caption>A tibble: 5 × 2</caption>\n",
       "<thead>\n",
       "\t<tr><th scope=col>City</th><th scope=col>Sales</th></tr>\n",
       "\t<tr><th scope=col>&lt;chr&gt;</th><th scope=col>&lt;dbl&gt;</th></tr>\n",
       "</thead>\n",
       "<tbody>\n",
       "\t<tr><td>Butzbach  </td><td>94967916</td></tr>\n",
       "\t<tr><td>Baesweiler</td><td>64914607</td></tr>\n",
       "\t<tr><td>Cuxhaven  </td><td>56393178</td></tr>\n",
       "\t<tr><td>Friedberg </td><td>52311655</td></tr>\n",
       "\t<tr><td>Altenburg </td><td>50984780</td></tr>\n",
       "</tbody>\n",
       "</table>\n"
      ],
      "text/latex": [
       "A tibble: 5 × 2\n",
       "\\begin{tabular}{ll}\n",
       " City & Sales\\\\\n",
       " <chr> & <dbl>\\\\\n",
       "\\hline\n",
       "\t Butzbach   & 94967916\\\\\n",
       "\t Baesweiler & 64914607\\\\\n",
       "\t Cuxhaven   & 56393178\\\\\n",
       "\t Friedberg  & 52311655\\\\\n",
       "\t Altenburg  & 50984780\\\\\n",
       "\\end{tabular}\n"
      ],
      "text/markdown": [
       "\n",
       "A tibble: 5 × 2\n",
       "\n",
       "| City &lt;chr&gt; | Sales &lt;dbl&gt; |\n",
       "|---|---|\n",
       "| Butzbach   | 94967916 |\n",
       "| Baesweiler | 64914607 |\n",
       "| Cuxhaven   | 56393178 |\n",
       "| Friedberg  | 52311655 |\n",
       "| Altenburg  | 50984780 |\n",
       "\n"
      ],
      "text/plain": [
       "  City       Sales   \n",
       "1 Butzbach   94967916\n",
       "2 Baesweiler 64914607\n",
       "3 Cuxhaven   56393178\n",
       "4 Friedberg  52311655\n",
       "5 Altenburg  50984780"
      ]
     },
     "metadata": {},
     "output_type": "display_data"
    }
   ],
   "source": [
    "df_clean %>%\n",
    "  group_by(City) %>%\n",
    "  summarise(Sales = sum(Sales)) %>%\n",
    "  arrange(desc(Sales)) %>%\n",
    "  head(5)"
   ]
  },
  {
   "cell_type": "markdown",
   "id": "b674d512",
   "metadata": {
    "papermill": {
     "duration": 0.01032,
     "end_time": "2025-07-28T23:46:06.082539",
     "exception": false,
     "start_time": "2025-07-28T23:46:06.072219",
     "status": "completed"
    },
    "tags": []
   },
   "source": [
    "### Top Sales Reps"
   ]
  },
  {
   "cell_type": "code",
   "execution_count": 17,
   "id": "1163040d",
   "metadata": {
    "execution": {
     "iopub.execute_input": "2025-07-28T23:46:06.108721Z",
     "iopub.status.busy": "2025-07-28T23:46:06.107037Z",
     "iopub.status.idle": "2025-07-28T23:46:06.144276Z",
     "shell.execute_reply": "2025-07-28T23:46:06.142547Z"
    },
    "papermill": {
     "duration": 0.052824,
     "end_time": "2025-07-28T23:46:06.146636",
     "exception": false,
     "start_time": "2025-07-28T23:46:06.093812",
     "status": "completed"
    },
    "tags": []
   },
   "outputs": [
    {
     "data": {
      "text/html": [
       "<table class=\"dataframe\">\n",
       "<caption>A tibble: 5 × 2</caption>\n",
       "<thead>\n",
       "\t<tr><th scope=col>Name of Sales Rep</th><th scope=col>Sales</th></tr>\n",
       "\t<tr><th scope=col>&lt;chr&gt;</th><th scope=col>&lt;dbl&gt;</th></tr>\n",
       "</thead>\n",
       "<tbody>\n",
       "\t<tr><td>Jimmy Grey      </td><td>994943687</td></tr>\n",
       "\t<tr><td>Abigail Thompson</td><td>990329560</td></tr>\n",
       "\t<tr><td>Sheila Stones   </td><td>969481143</td></tr>\n",
       "\t<tr><td>Daniel Gates    </td><td>965562042</td></tr>\n",
       "\t<tr><td>Anne Wu         </td><td>929780655</td></tr>\n",
       "</tbody>\n",
       "</table>\n"
      ],
      "text/latex": [
       "A tibble: 5 × 2\n",
       "\\begin{tabular}{ll}\n",
       " Name of Sales Rep & Sales\\\\\n",
       " <chr> & <dbl>\\\\\n",
       "\\hline\n",
       "\t Jimmy Grey       & 994943687\\\\\n",
       "\t Abigail Thompson & 990329560\\\\\n",
       "\t Sheila Stones    & 969481143\\\\\n",
       "\t Daniel Gates     & 965562042\\\\\n",
       "\t Anne Wu          & 929780655\\\\\n",
       "\\end{tabular}\n"
      ],
      "text/markdown": [
       "\n",
       "A tibble: 5 × 2\n",
       "\n",
       "| Name of Sales Rep &lt;chr&gt; | Sales &lt;dbl&gt; |\n",
       "|---|---|\n",
       "| Jimmy Grey       | 994943687 |\n",
       "| Abigail Thompson | 990329560 |\n",
       "| Sheila Stones    | 969481143 |\n",
       "| Daniel Gates     | 965562042 |\n",
       "| Anne Wu          | 929780655 |\n",
       "\n"
      ],
      "text/plain": [
       "  Name of Sales Rep Sales    \n",
       "1 Jimmy Grey        994943687\n",
       "2 Abigail Thompson  990329560\n",
       "3 Sheila Stones     969481143\n",
       "4 Daniel Gates      965562042\n",
       "5 Anne Wu           929780655"
      ]
     },
     "metadata": {},
     "output_type": "display_data"
    }
   ],
   "source": [
    "df_clean %>%\n",
    "  group_by(`Name of Sales Rep`) %>%\n",
    "  summarise(Sales = sum(Sales)) %>%\n",
    "  arrange(desc(Sales)) %>%\n",
    "  head(5)"
   ]
  }
 ],
 "metadata": {
  "kaggle": {
   "accelerator": "none",
   "dataSources": [
    {
     "datasetId": 7960398,
     "sourceId": 12602777,
     "sourceType": "datasetVersion"
    }
   ],
   "dockerImageVersionId": 30749,
   "isGpuEnabled": false,
   "isInternetEnabled": false,
   "language": "r",
   "sourceType": "notebook"
  },
  "kernelspec": {
   "display_name": "R",
   "language": "R",
   "name": "ir"
  },
  "language_info": {
   "codemirror_mode": "r",
   "file_extension": ".r",
   "mimetype": "text/x-r-source",
   "name": "R",
   "pygments_lexer": "r",
   "version": "4.4.0"
  },
  "papermill": {
   "default_parameters": {},
   "duration": 9.859692,
   "end_time": "2025-07-28T23:46:06.276819",
   "environment_variables": {},
   "exception": null,
   "input_path": "__notebook__.ipynb",
   "output_path": "__notebook__.ipynb",
   "parameters": {},
   "start_time": "2025-07-28T23:45:56.417127",
   "version": "2.6.0"
  }
 },
 "nbformat": 4,
 "nbformat_minor": 5
}
